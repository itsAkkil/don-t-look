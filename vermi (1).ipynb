{
 "cells": [
  {
   "cell_type": "code",
   "execution_count": 2,
   "metadata": {
    "_cell_guid": "b1076dfc-b9ad-4769-8c92-a6c4dae69d19",
    "_uuid": "8f2839f25d086af736a60e9eeb907d3b93b6e0e5"
   },
   "outputs": [],
   "source": [
    "# This Python 3 environment comes with many helpful analytics libraries installed\n",
    "# It is defined by the kaggle/python Docker image: https://github.com/kaggle/docker-python\n",
    "# For example, here's several helpful packages to load\n",
    "\n",
    "import numpy as np # linear algebra\n",
    "import pandas as pd # data processing, CSV file I/O (e.g. pd.read_csv)\n",
    "\n",
    "# Input data files are available in the read-only \"../input/\" directory\n",
    "# For example, running this (by clicking run or pressing Shift+Enter) will list all files under the input directory\n",
    "\n",
    "# # import os\n",
    "# for dirname, _, filenames in os.walk('/kaggle/input'):\n",
    "#     for filename in filenames:\n",
    "#         print(os.path.join(dirname, filename))\n",
    "\n",
    "# You can write up to 20GB to the current directory (/kaggle/working/) that gets preserved as output when you create a version using \"Save & Run All\" \n",
    "# You can also write temporary files to /kaggle/temp/, but they won't be saved outside of the current session"
   ]
  },
  {
   "cell_type": "code",
   "execution_count": 3,
   "metadata": {},
   "outputs": [],
   "source": [
    "df = pd.read_csv(r\"C:\\Users\\System Error\\Downloads\\mini_vermi.csv\")"
   ]
  },
  {
   "cell_type": "code",
   "execution_count": 4,
   "metadata": {},
   "outputs": [
    {
     "data": {
      "text/html": [
       "<div>\n",
       "<style scoped>\n",
       "    .dataframe tbody tr th:only-of-type {\n",
       "        vertical-align: middle;\n",
       "    }\n",
       "\n",
       "    .dataframe tbody tr th {\n",
       "        vertical-align: top;\n",
       "    }\n",
       "\n",
       "    .dataframe thead th {\n",
       "        text-align: right;\n",
       "    }\n",
       "</style>\n",
       "<table border=\"1\" class=\"dataframe\">\n",
       "  <thead>\n",
       "    <tr style=\"text-align: right;\">\n",
       "      <th></th>\n",
       "      <th>Unnamed: 0.1</th>\n",
       "      <th>Unnamed: 0</th>\n",
       "      <th>type</th>\n",
       "      <th>rcvTime</th>\n",
       "      <th>pos_0</th>\n",
       "      <th>pos_1</th>\n",
       "      <th>pos_noise_0</th>\n",
       "      <th>pos_noise_1</th>\n",
       "      <th>spd_0</th>\n",
       "      <th>spd_1</th>\n",
       "      <th>...</th>\n",
       "      <th>acl_0</th>\n",
       "      <th>acl_1</th>\n",
       "      <th>acl_noise_0</th>\n",
       "      <th>acl_noise_1</th>\n",
       "      <th>hed_0</th>\n",
       "      <th>hed_1</th>\n",
       "      <th>hed_noise_0</th>\n",
       "      <th>hed_noise_1</th>\n",
       "      <th>attack</th>\n",
       "      <th>attack_type</th>\n",
       "    </tr>\n",
       "  </thead>\n",
       "  <tbody>\n",
       "    <tr>\n",
       "      <th>0</th>\n",
       "      <td>0</td>\n",
       "      <td>0</td>\n",
       "      <td>3</td>\n",
       "      <td>27371.216284</td>\n",
       "      <td>981.098535</td>\n",
       "      <td>908.497891</td>\n",
       "      <td>3.826423</td>\n",
       "      <td>3.964059</td>\n",
       "      <td>-17.723786</td>\n",
       "      <td>-2.154895</td>\n",
       "      <td>...</td>\n",
       "      <td>-0.248402</td>\n",
       "      <td>-0.177659</td>\n",
       "      <td>0.000784</td>\n",
       "      <td>1.114785e-03</td>\n",
       "      <td>-0.971331</td>\n",
       "      <td>-0.237732</td>\n",
       "      <td>44.022409</td>\n",
       "      <td>33.840519</td>\n",
       "      <td>0</td>\n",
       "      <td>RandomSpeedOffset</td>\n",
       "    </tr>\n",
       "    <tr>\n",
       "      <th>1</th>\n",
       "      <td>1</td>\n",
       "      <td>1</td>\n",
       "      <td>3</td>\n",
       "      <td>52060.561117</td>\n",
       "      <td>1213.025174</td>\n",
       "      <td>984.277524</td>\n",
       "      <td>4.477449</td>\n",
       "      <td>4.459375</td>\n",
       "      <td>14.504808</td>\n",
       "      <td>2.605276</td>\n",
       "      <td>...</td>\n",
       "      <td>-0.653850</td>\n",
       "      <td>-0.117125</td>\n",
       "      <td>0.000001</td>\n",
       "      <td>1.847528e-07</td>\n",
       "      <td>0.992578</td>\n",
       "      <td>0.121610</td>\n",
       "      <td>2.560114</td>\n",
       "      <td>8.414909</td>\n",
       "      <td>0</td>\n",
       "      <td>DataReplay</td>\n",
       "    </tr>\n",
       "    <tr>\n",
       "      <th>2</th>\n",
       "      <td>2</td>\n",
       "      <td>2</td>\n",
       "      <td>3</td>\n",
       "      <td>28156.319142</td>\n",
       "      <td>140.514133</td>\n",
       "      <td>944.338854</td>\n",
       "      <td>2.965184</td>\n",
       "      <td>3.066191</td>\n",
       "      <td>-0.346027</td>\n",
       "      <td>4.671520</td>\n",
       "      <td>...</td>\n",
       "      <td>0.333247</td>\n",
       "      <td>-4.486889</td>\n",
       "      <td>0.000448</td>\n",
       "      <td>6.050771e-03</td>\n",
       "      <td>0.256103</td>\n",
       "      <td>0.966649</td>\n",
       "      <td>15.915074</td>\n",
       "      <td>9.636057</td>\n",
       "      <td>1</td>\n",
       "      <td>DoSDisruptive</td>\n",
       "    </tr>\n",
       "    <tr>\n",
       "      <th>3</th>\n",
       "      <td>3</td>\n",
       "      <td>3</td>\n",
       "      <td>3</td>\n",
       "      <td>28671.375689</td>\n",
       "      <td>558.005547</td>\n",
       "      <td>327.316562</td>\n",
       "      <td>4.934159</td>\n",
       "      <td>5.037039</td>\n",
       "      <td>11.792797</td>\n",
       "      <td>4.028876</td>\n",
       "      <td>...</td>\n",
       "      <td>-0.030639</td>\n",
       "      <td>-0.010265</td>\n",
       "      <td>0.000066</td>\n",
       "      <td>2.237617e-05</td>\n",
       "      <td>0.954113</td>\n",
       "      <td>0.299446</td>\n",
       "      <td>2.854203</td>\n",
       "      <td>6.203941</td>\n",
       "      <td>1</td>\n",
       "      <td>RandomSpeedOffset</td>\n",
       "    </tr>\n",
       "    <tr>\n",
       "      <th>4</th>\n",
       "      <td>4</td>\n",
       "      <td>4</td>\n",
       "      <td>2</td>\n",
       "      <td>53612.000000</td>\n",
       "      <td>689.179631</td>\n",
       "      <td>547.143780</td>\n",
       "      <td>3.327547</td>\n",
       "      <td>3.374621</td>\n",
       "      <td>3.887137</td>\n",
       "      <td>-8.732709</td>\n",
       "      <td>...</td>\n",
       "      <td>-1.829939</td>\n",
       "      <td>4.111129</td>\n",
       "      <td>0.000028</td>\n",
       "      <td>6.361425e-05</td>\n",
       "      <td>0.360402</td>\n",
       "      <td>-0.932797</td>\n",
       "      <td>5.648109</td>\n",
       "      <td>19.951521</td>\n",
       "      <td>0</td>\n",
       "      <td>DoS</td>\n",
       "    </tr>\n",
       "  </tbody>\n",
       "</table>\n",
       "<p>5 rows × 22 columns</p>\n",
       "</div>"
      ],
      "text/plain": [
       "   Unnamed: 0.1  Unnamed: 0  type       rcvTime        pos_0       pos_1  \\\n",
       "0             0           0     3  27371.216284   981.098535  908.497891   \n",
       "1             1           1     3  52060.561117  1213.025174  984.277524   \n",
       "2             2           2     3  28156.319142   140.514133  944.338854   \n",
       "3             3           3     3  28671.375689   558.005547  327.316562   \n",
       "4             4           4     2  53612.000000   689.179631  547.143780   \n",
       "\n",
       "   pos_noise_0  pos_noise_1      spd_0     spd_1  ...     acl_0     acl_1  \\\n",
       "0     3.826423     3.964059 -17.723786 -2.154895  ... -0.248402 -0.177659   \n",
       "1     4.477449     4.459375  14.504808  2.605276  ... -0.653850 -0.117125   \n",
       "2     2.965184     3.066191  -0.346027  4.671520  ...  0.333247 -4.486889   \n",
       "3     4.934159     5.037039  11.792797  4.028876  ... -0.030639 -0.010265   \n",
       "4     3.327547     3.374621   3.887137 -8.732709  ... -1.829939  4.111129   \n",
       "\n",
       "   acl_noise_0   acl_noise_1     hed_0     hed_1  hed_noise_0  hed_noise_1  \\\n",
       "0     0.000784  1.114785e-03 -0.971331 -0.237732    44.022409    33.840519   \n",
       "1     0.000001  1.847528e-07  0.992578  0.121610     2.560114     8.414909   \n",
       "2     0.000448  6.050771e-03  0.256103  0.966649    15.915074     9.636057   \n",
       "3     0.000066  2.237617e-05  0.954113  0.299446     2.854203     6.203941   \n",
       "4     0.000028  6.361425e-05  0.360402 -0.932797     5.648109    19.951521   \n",
       "\n",
       "   attack        attack_type  \n",
       "0       0  RandomSpeedOffset  \n",
       "1       0         DataReplay  \n",
       "2       1      DoSDisruptive  \n",
       "3       1  RandomSpeedOffset  \n",
       "4       0                DoS  \n",
       "\n",
       "[5 rows x 22 columns]"
      ]
     },
     "execution_count": 4,
     "metadata": {},
     "output_type": "execute_result"
    }
   ],
   "source": [
    "df.head()"
   ]
  },
  {
   "cell_type": "code",
   "execution_count": 5,
   "metadata": {},
   "outputs": [],
   "source": [
    "df.drop(['Unnamed: 0', 'type','attack_type',\"Unnamed: 0.1\"],axis=1,inplace=True)"
   ]
  },
  {
   "cell_type": "code",
   "execution_count": 6,
   "metadata": {},
   "outputs": [
    {
     "data": {
      "text/plain": [
       "(1000000, 18)"
      ]
     },
     "execution_count": 6,
     "metadata": {},
     "output_type": "execute_result"
    }
   ],
   "source": [
    "df.shape\n"
   ]
  },
  {
   "cell_type": "code",
   "execution_count": 7,
   "metadata": {},
   "outputs": [
    {
     "data": {
      "text/html": [
       "<div>\n",
       "<style scoped>\n",
       "    .dataframe tbody tr th:only-of-type {\n",
       "        vertical-align: middle;\n",
       "    }\n",
       "\n",
       "    .dataframe tbody tr th {\n",
       "        vertical-align: top;\n",
       "    }\n",
       "\n",
       "    .dataframe thead th {\n",
       "        text-align: right;\n",
       "    }\n",
       "</style>\n",
       "<table border=\"1\" class=\"dataframe\">\n",
       "  <thead>\n",
       "    <tr style=\"text-align: right;\">\n",
       "      <th></th>\n",
       "      <th>rcvTime</th>\n",
       "      <th>pos_0</th>\n",
       "      <th>pos_1</th>\n",
       "      <th>pos_noise_0</th>\n",
       "      <th>pos_noise_1</th>\n",
       "      <th>spd_0</th>\n",
       "      <th>spd_1</th>\n",
       "      <th>spd_noise_0</th>\n",
       "      <th>spd_noise_1</th>\n",
       "      <th>acl_0</th>\n",
       "      <th>acl_1</th>\n",
       "      <th>acl_noise_0</th>\n",
       "      <th>acl_noise_1</th>\n",
       "      <th>hed_0</th>\n",
       "      <th>hed_1</th>\n",
       "      <th>hed_noise_0</th>\n",
       "      <th>hed_noise_1</th>\n",
       "      <th>attack</th>\n",
       "    </tr>\n",
       "  </thead>\n",
       "  <tbody>\n",
       "    <tr>\n",
       "      <th>0</th>\n",
       "      <td>27371.216284</td>\n",
       "      <td>981.098535</td>\n",
       "      <td>908.497891</td>\n",
       "      <td>3.826423</td>\n",
       "      <td>3.964059</td>\n",
       "      <td>-17.723786</td>\n",
       "      <td>-2.154895</td>\n",
       "      <td>-0.024182</td>\n",
       "      <td>-0.017303</td>\n",
       "      <td>-0.248402</td>\n",
       "      <td>-0.177659</td>\n",
       "      <td>0.000784</td>\n",
       "      <td>1.114785e-03</td>\n",
       "      <td>-0.971331</td>\n",
       "      <td>-0.237732</td>\n",
       "      <td>44.022409</td>\n",
       "      <td>33.840519</td>\n",
       "      <td>0</td>\n",
       "    </tr>\n",
       "    <tr>\n",
       "      <th>1</th>\n",
       "      <td>52060.561117</td>\n",
       "      <td>1213.025174</td>\n",
       "      <td>984.277524</td>\n",
       "      <td>4.477449</td>\n",
       "      <td>4.459375</td>\n",
       "      <td>14.504808</td>\n",
       "      <td>2.605276</td>\n",
       "      <td>-0.008523</td>\n",
       "      <td>-0.001531</td>\n",
       "      <td>-0.653850</td>\n",
       "      <td>-0.117125</td>\n",
       "      <td>0.000001</td>\n",
       "      <td>1.847528e-07</td>\n",
       "      <td>0.992578</td>\n",
       "      <td>0.121610</td>\n",
       "      <td>2.560114</td>\n",
       "      <td>8.414909</td>\n",
       "      <td>0</td>\n",
       "    </tr>\n",
       "    <tr>\n",
       "      <th>2</th>\n",
       "      <td>28156.319142</td>\n",
       "      <td>140.514133</td>\n",
       "      <td>944.338854</td>\n",
       "      <td>2.965184</td>\n",
       "      <td>3.066191</td>\n",
       "      <td>-0.346027</td>\n",
       "      <td>4.671520</td>\n",
       "      <td>-0.000469</td>\n",
       "      <td>0.006336</td>\n",
       "      <td>0.333247</td>\n",
       "      <td>-4.486889</td>\n",
       "      <td>0.000448</td>\n",
       "      <td>6.050771e-03</td>\n",
       "      <td>0.256103</td>\n",
       "      <td>0.966649</td>\n",
       "      <td>15.915074</td>\n",
       "      <td>9.636057</td>\n",
       "      <td>1</td>\n",
       "    </tr>\n",
       "    <tr>\n",
       "      <th>3</th>\n",
       "      <td>28671.375689</td>\n",
       "      <td>558.005547</td>\n",
       "      <td>327.316562</td>\n",
       "      <td>4.934159</td>\n",
       "      <td>5.037039</td>\n",
       "      <td>11.792797</td>\n",
       "      <td>4.028876</td>\n",
       "      <td>0.022346</td>\n",
       "      <td>0.007632</td>\n",
       "      <td>-0.030639</td>\n",
       "      <td>-0.010265</td>\n",
       "      <td>0.000066</td>\n",
       "      <td>2.237617e-05</td>\n",
       "      <td>0.954113</td>\n",
       "      <td>0.299446</td>\n",
       "      <td>2.854203</td>\n",
       "      <td>6.203941</td>\n",
       "      <td>1</td>\n",
       "    </tr>\n",
       "    <tr>\n",
       "      <th>4</th>\n",
       "      <td>53612.000000</td>\n",
       "      <td>689.179631</td>\n",
       "      <td>547.143780</td>\n",
       "      <td>3.327547</td>\n",
       "      <td>3.374621</td>\n",
       "      <td>3.887137</td>\n",
       "      <td>-8.732709</td>\n",
       "      <td>0.000090</td>\n",
       "      <td>-0.000203</td>\n",
       "      <td>-1.829939</td>\n",
       "      <td>4.111129</td>\n",
       "      <td>0.000028</td>\n",
       "      <td>6.361425e-05</td>\n",
       "      <td>0.360402</td>\n",
       "      <td>-0.932797</td>\n",
       "      <td>5.648109</td>\n",
       "      <td>19.951521</td>\n",
       "      <td>0</td>\n",
       "    </tr>\n",
       "  </tbody>\n",
       "</table>\n",
       "</div>"
      ],
      "text/plain": [
       "        rcvTime        pos_0       pos_1  pos_noise_0  pos_noise_1      spd_0  \\\n",
       "0  27371.216284   981.098535  908.497891     3.826423     3.964059 -17.723786   \n",
       "1  52060.561117  1213.025174  984.277524     4.477449     4.459375  14.504808   \n",
       "2  28156.319142   140.514133  944.338854     2.965184     3.066191  -0.346027   \n",
       "3  28671.375689   558.005547  327.316562     4.934159     5.037039  11.792797   \n",
       "4  53612.000000   689.179631  547.143780     3.327547     3.374621   3.887137   \n",
       "\n",
       "      spd_1  spd_noise_0  spd_noise_1     acl_0     acl_1  acl_noise_0  \\\n",
       "0 -2.154895    -0.024182    -0.017303 -0.248402 -0.177659     0.000784   \n",
       "1  2.605276    -0.008523    -0.001531 -0.653850 -0.117125     0.000001   \n",
       "2  4.671520    -0.000469     0.006336  0.333247 -4.486889     0.000448   \n",
       "3  4.028876     0.022346     0.007632 -0.030639 -0.010265     0.000066   \n",
       "4 -8.732709     0.000090    -0.000203 -1.829939  4.111129     0.000028   \n",
       "\n",
       "    acl_noise_1     hed_0     hed_1  hed_noise_0  hed_noise_1  attack  \n",
       "0  1.114785e-03 -0.971331 -0.237732    44.022409    33.840519       0  \n",
       "1  1.847528e-07  0.992578  0.121610     2.560114     8.414909       0  \n",
       "2  6.050771e-03  0.256103  0.966649    15.915074     9.636057       1  \n",
       "3  2.237617e-05  0.954113  0.299446     2.854203     6.203941       1  \n",
       "4  6.361425e-05  0.360402 -0.932797     5.648109    19.951521       0  "
      ]
     },
     "execution_count": 7,
     "metadata": {},
     "output_type": "execute_result"
    }
   ],
   "source": [
    "df.head()"
   ]
  },
  {
   "cell_type": "markdown",
   "metadata": {},
   "source": [
    "All contineous features"
   ]
  },
  {
   "cell_type": "code",
   "execution_count": 8,
   "metadata": {},
   "outputs": [
    {
     "name": "stdout",
     "output_type": "stream",
     "text": [
      "<class 'pandas.core.frame.DataFrame'>\n",
      "RangeIndex: 1000000 entries, 0 to 999999\n",
      "Data columns (total 18 columns):\n",
      " #   Column       Non-Null Count    Dtype  \n",
      "---  ------       --------------    -----  \n",
      " 0   rcvTime      1000000 non-null  float64\n",
      " 1   pos_0        1000000 non-null  float64\n",
      " 2   pos_1        1000000 non-null  float64\n",
      " 3   pos_noise_0  1000000 non-null  float64\n",
      " 4   pos_noise_1  1000000 non-null  float64\n",
      " 5   spd_0        1000000 non-null  float64\n",
      " 6   spd_1        1000000 non-null  float64\n",
      " 7   spd_noise_0  1000000 non-null  float64\n",
      " 8   spd_noise_1  1000000 non-null  float64\n",
      " 9   acl_0        1000000 non-null  float64\n",
      " 10  acl_1        1000000 non-null  float64\n",
      " 11  acl_noise_0  1000000 non-null  float64\n",
      " 12  acl_noise_1  1000000 non-null  float64\n",
      " 13  hed_0        1000000 non-null  float64\n",
      " 14  hed_1        1000000 non-null  float64\n",
      " 15  hed_noise_0  1000000 non-null  float64\n",
      " 16  hed_noise_1  1000000 non-null  float64\n",
      " 17  attack       1000000 non-null  int64  \n",
      "dtypes: float64(17), int64(1)\n",
      "memory usage: 137.3 MB\n"
     ]
    }
   ],
   "source": [
    "df.info()"
   ]
  },
  {
   "cell_type": "markdown",
   "metadata": {},
   "source": [
    "Dtype - Float"
   ]
  },
  {
   "cell_type": "code",
   "execution_count": 9,
   "metadata": {},
   "outputs": [
    {
     "data": {
      "text/html": [
       "<div>\n",
       "<style scoped>\n",
       "    .dataframe tbody tr th:only-of-type {\n",
       "        vertical-align: middle;\n",
       "    }\n",
       "\n",
       "    .dataframe tbody tr th {\n",
       "        vertical-align: top;\n",
       "    }\n",
       "\n",
       "    .dataframe thead th {\n",
       "        text-align: right;\n",
       "    }\n",
       "</style>\n",
       "<table border=\"1\" class=\"dataframe\">\n",
       "  <thead>\n",
       "    <tr style=\"text-align: right;\">\n",
       "      <th></th>\n",
       "      <th>rcvTime</th>\n",
       "      <th>pos_0</th>\n",
       "      <th>pos_1</th>\n",
       "      <th>pos_noise_0</th>\n",
       "      <th>pos_noise_1</th>\n",
       "      <th>spd_0</th>\n",
       "      <th>spd_1</th>\n",
       "      <th>spd_noise_0</th>\n",
       "      <th>spd_noise_1</th>\n",
       "      <th>acl_0</th>\n",
       "      <th>acl_1</th>\n",
       "      <th>acl_noise_0</th>\n",
       "      <th>acl_noise_1</th>\n",
       "      <th>hed_0</th>\n",
       "      <th>hed_1</th>\n",
       "      <th>hed_noise_0</th>\n",
       "      <th>hed_noise_1</th>\n",
       "      <th>attack</th>\n",
       "    </tr>\n",
       "  </thead>\n",
       "  <tbody>\n",
       "    <tr>\n",
       "      <th>count</th>\n",
       "      <td>1000000.000000</td>\n",
       "      <td>1000000.000000</td>\n",
       "      <td>1000000.000000</td>\n",
       "      <td>1000000.000000</td>\n",
       "      <td>1000000.000000</td>\n",
       "      <td>1000000.000000</td>\n",
       "      <td>1000000.000000</td>\n",
       "      <td>1000000.000000</td>\n",
       "      <td>1000000.000000</td>\n",
       "      <td>1000000.000000</td>\n",
       "      <td>1000000.000000</td>\n",
       "      <td>1000000.000000</td>\n",
       "      <td>1000000.000000</td>\n",
       "      <td>1000000.000000</td>\n",
       "      <td>1000000.000000</td>\n",
       "      <td>1000000.000000</td>\n",
       "      <td>1000000.000000</td>\n",
       "      <td>1000000.000000</td>\n",
       "    </tr>\n",
       "    <tr>\n",
       "      <th>mean</th>\n",
       "      <td>38561.039085</td>\n",
       "      <td>533.006627</td>\n",
       "      <td>660.539242</td>\n",
       "      <td>4.059815</td>\n",
       "      <td>4.060259</td>\n",
       "      <td>1.209786</td>\n",
       "      <td>1.840178</td>\n",
       "      <td>0.000031</td>\n",
       "      <td>-0.000029</td>\n",
       "      <td>0.042562</td>\n",
       "      <td>0.031694</td>\n",
       "      <td>0.000808</td>\n",
       "      <td>0.000990</td>\n",
       "      <td>-0.066241</td>\n",
       "      <td>0.034933</td>\n",
       "      <td>13.547448</td>\n",
       "      <td>13.343102</td>\n",
       "      <td>0.453017</td>\n",
       "    </tr>\n",
       "    <tr>\n",
       "      <th>std</th>\n",
       "      <td>12427.328612</td>\n",
       "      <td>411.754000</td>\n",
       "      <td>317.491608</td>\n",
       "      <td>17.434329</td>\n",
       "      <td>17.434116</td>\n",
       "      <td>9.362433</td>\n",
       "      <td>9.750553</td>\n",
       "      <td>0.011577</td>\n",
       "      <td>0.012711</td>\n",
       "      <td>0.942116</td>\n",
       "      <td>1.195288</td>\n",
       "      <td>0.002515</td>\n",
       "      <td>0.002570</td>\n",
       "      <td>0.641143</td>\n",
       "      <td>0.748231</td>\n",
       "      <td>21.768244</td>\n",
       "      <td>22.141533</td>\n",
       "      <td>0.497788</td>\n",
       "    </tr>\n",
       "    <tr>\n",
       "      <th>min</th>\n",
       "      <td>25207.000000</td>\n",
       "      <td>-3130.896807</td>\n",
       "      <td>-1739.375206</td>\n",
       "      <td>0.000000</td>\n",
       "      <td>0.000000</td>\n",
       "      <td>-27.270269</td>\n",
       "      <td>-27.113309</td>\n",
       "      <td>-0.095760</td>\n",
       "      <td>-0.087359</td>\n",
       "      <td>-4.499848</td>\n",
       "      <td>-4.499985</td>\n",
       "      <td>0.000000</td>\n",
       "      <td>0.000000</td>\n",
       "      <td>-1.000000</td>\n",
       "      <td>-1.000000</td>\n",
       "      <td>0.000000</td>\n",
       "      <td>0.000000</td>\n",
       "      <td>0.000000</td>\n",
       "    </tr>\n",
       "    <tr>\n",
       "      <th>25%</th>\n",
       "      <td>27158.170825</td>\n",
       "      <td>195.321425</td>\n",
       "      <td>387.718896</td>\n",
       "      <td>3.489455</td>\n",
       "      <td>3.491414</td>\n",
       "      <td>-2.365683</td>\n",
       "      <td>-3.904785</td>\n",
       "      <td>-0.002352</td>\n",
       "      <td>-0.004013</td>\n",
       "      <td>-0.164600</td>\n",
       "      <td>-0.204900</td>\n",
       "      <td>0.000005</td>\n",
       "      <td>0.000005</td>\n",
       "      <td>-0.654043</td>\n",
       "      <td>-0.774219</td>\n",
       "      <td>3.931695</td>\n",
       "      <td>3.525807</td>\n",
       "      <td>0.000000</td>\n",
       "    </tr>\n",
       "    <tr>\n",
       "      <th>50%</th>\n",
       "      <td>28596.814238</td>\n",
       "      <td>274.534172</td>\n",
       "      <td>719.361003</td>\n",
       "      <td>3.990375</td>\n",
       "      <td>3.990698</td>\n",
       "      <td>0.000073</td>\n",
       "      <td>0.000371</td>\n",
       "      <td>0.000000</td>\n",
       "      <td>0.000000</td>\n",
       "      <td>0.000074</td>\n",
       "      <td>0.000103</td>\n",
       "      <td>0.000065</td>\n",
       "      <td>0.000067</td>\n",
       "      <td>-0.024453</td>\n",
       "      <td>0.055592</td>\n",
       "      <td>9.327842</td>\n",
       "      <td>8.210772</td>\n",
       "      <td>0.000000</td>\n",
       "    </tr>\n",
       "    <tr>\n",
       "      <th>75%</th>\n",
       "      <td>51932.714884</td>\n",
       "      <td>901.750868</td>\n",
       "      <td>905.306091</td>\n",
       "      <td>4.491474</td>\n",
       "      <td>4.491825</td>\n",
       "      <td>4.510655</td>\n",
       "      <td>7.813991</td>\n",
       "      <td>0.002447</td>\n",
       "      <td>0.003939</td>\n",
       "      <td>0.213831</td>\n",
       "      <td>0.305158</td>\n",
       "      <td>0.000456</td>\n",
       "      <td>0.000756</td>\n",
       "      <td>0.215629</td>\n",
       "      <td>0.847202</td>\n",
       "      <td>17.356359</td>\n",
       "      <td>17.129547</td>\n",
       "      <td>1.000000</td>\n",
       "    </tr>\n",
       "    <tr>\n",
       "      <th>max</th>\n",
       "      <td>54197.000000</td>\n",
       "      <td>2998.057310</td>\n",
       "      <td>3125.380070</td>\n",
       "      <td>9970.716907</td>\n",
       "      <td>9970.727602</td>\n",
       "      <td>39.999163</td>\n",
       "      <td>39.999805</td>\n",
       "      <td>0.088609</td>\n",
       "      <td>0.095331</td>\n",
       "      <td>4.503902</td>\n",
       "      <td>4.501374</td>\n",
       "      <td>0.088258</td>\n",
       "      <td>0.101479</td>\n",
       "      <td>1.000000</td>\n",
       "      <td>1.000000</td>\n",
       "      <td>5577.485978</td>\n",
       "      <td>5576.778829</td>\n",
       "      <td>1.000000</td>\n",
       "    </tr>\n",
       "  </tbody>\n",
       "</table>\n",
       "</div>"
      ],
      "text/plain": [
       "              rcvTime           pos_0           pos_1     pos_noise_0  \\\n",
       "count  1000000.000000  1000000.000000  1000000.000000  1000000.000000   \n",
       "mean     38561.039085      533.006627      660.539242        4.059815   \n",
       "std      12427.328612      411.754000      317.491608       17.434329   \n",
       "min      25207.000000    -3130.896807    -1739.375206        0.000000   \n",
       "25%      27158.170825      195.321425      387.718896        3.489455   \n",
       "50%      28596.814238      274.534172      719.361003        3.990375   \n",
       "75%      51932.714884      901.750868      905.306091        4.491474   \n",
       "max      54197.000000     2998.057310     3125.380070     9970.716907   \n",
       "\n",
       "          pos_noise_1           spd_0           spd_1     spd_noise_0  \\\n",
       "count  1000000.000000  1000000.000000  1000000.000000  1000000.000000   \n",
       "mean         4.060259        1.209786        1.840178        0.000031   \n",
       "std         17.434116        9.362433        9.750553        0.011577   \n",
       "min          0.000000      -27.270269      -27.113309       -0.095760   \n",
       "25%          3.491414       -2.365683       -3.904785       -0.002352   \n",
       "50%          3.990698        0.000073        0.000371        0.000000   \n",
       "75%          4.491825        4.510655        7.813991        0.002447   \n",
       "max       9970.727602       39.999163       39.999805        0.088609   \n",
       "\n",
       "          spd_noise_1           acl_0           acl_1     acl_noise_0  \\\n",
       "count  1000000.000000  1000000.000000  1000000.000000  1000000.000000   \n",
       "mean        -0.000029        0.042562        0.031694        0.000808   \n",
       "std          0.012711        0.942116        1.195288        0.002515   \n",
       "min         -0.087359       -4.499848       -4.499985        0.000000   \n",
       "25%         -0.004013       -0.164600       -0.204900        0.000005   \n",
       "50%          0.000000        0.000074        0.000103        0.000065   \n",
       "75%          0.003939        0.213831        0.305158        0.000456   \n",
       "max          0.095331        4.503902        4.501374        0.088258   \n",
       "\n",
       "          acl_noise_1           hed_0           hed_1     hed_noise_0  \\\n",
       "count  1000000.000000  1000000.000000  1000000.000000  1000000.000000   \n",
       "mean         0.000990       -0.066241        0.034933       13.547448   \n",
       "std          0.002570        0.641143        0.748231       21.768244   \n",
       "min          0.000000       -1.000000       -1.000000        0.000000   \n",
       "25%          0.000005       -0.654043       -0.774219        3.931695   \n",
       "50%          0.000067       -0.024453        0.055592        9.327842   \n",
       "75%          0.000756        0.215629        0.847202       17.356359   \n",
       "max          0.101479        1.000000        1.000000     5577.485978   \n",
       "\n",
       "          hed_noise_1          attack  \n",
       "count  1000000.000000  1000000.000000  \n",
       "mean        13.343102        0.453017  \n",
       "std         22.141533        0.497788  \n",
       "min          0.000000        0.000000  \n",
       "25%          3.525807        0.000000  \n",
       "50%          8.210772        0.000000  \n",
       "75%         17.129547        1.000000  \n",
       "max       5576.778829        1.000000  "
      ]
     },
     "execution_count": 9,
     "metadata": {},
     "output_type": "execute_result"
    }
   ],
   "source": [
    "df.describe()"
   ]
  },
  {
   "cell_type": "code",
   "execution_count": 10,
   "metadata": {},
   "outputs": [
    {
     "data": {
      "text/plain": [
       "rcvTime        0\n",
       "pos_0          0\n",
       "pos_1          0\n",
       "pos_noise_0    0\n",
       "pos_noise_1    0\n",
       "spd_0          0\n",
       "spd_1          0\n",
       "spd_noise_0    0\n",
       "spd_noise_1    0\n",
       "acl_0          0\n",
       "acl_1          0\n",
       "acl_noise_0    0\n",
       "acl_noise_1    0\n",
       "hed_0          0\n",
       "hed_1          0\n",
       "hed_noise_0    0\n",
       "hed_noise_1    0\n",
       "attack         0\n",
       "dtype: int64"
      ]
     },
     "execution_count": 10,
     "metadata": {},
     "output_type": "execute_result"
    }
   ],
   "source": [
    "df.isna().sum()"
   ]
  },
  {
   "cell_type": "markdown",
   "metadata": {},
   "source": [
    "No null value"
   ]
  },
  {
   "cell_type": "code",
   "execution_count": 11,
   "metadata": {},
   "outputs": [
    {
     "data": {
      "text/plain": [
       "<Axes: >"
      ]
     },
     "execution_count": 11,
     "metadata": {},
     "output_type": "execute_result"
    },
    {
     "data": {
      "image/png": "[encoded data removed]",
      "text/plain": [
       "<Figure size 1800x1000 with 2 Axes>"
      ]
     },
     "metadata": {},
     "output_type": "display_data"
    }
   ],
   "source": [
    "## Check for multicollinearity\n",
    "import seaborn as sns\n",
    "import matplotlib.pyplot as plt\n",
    "plt.figure(figsize=(18,10))\n",
    "corr=df.corr()\n",
    "sns.heatmap(corr,annot=True)"
   ]
  },
  {
   "cell_type": "code",
   "execution_count": 13,
   "metadata": {},
   "outputs": [],
   "source": [
    "#Train Test Split\n",
    "from sklearn.model_selection import train_test_split\n",
    "x,y=train_test_split(df,test_size=0.97,random_state=2529)"
   ]
  },
  {
   "cell_type": "code",
   "execution_count": 14,
   "metadata": {},
   "outputs": [],
   "source": [
    "X=x[['rcvTime', 'pos_0', 'pos_1', 'pos_noise_0',\n",
    "       'pos_noise_1', 'spd_0', 'spd_1', 'spd_noise_0', 'spd_noise_1', 'acl_0',\n",
    "       'acl_1', 'acl_noise_0', 'acl_noise_1', 'hed_0', 'hed_1', 'hed_noise_0',\n",
    "       'hed_noise_1']]\n",
    "y=x['attack']"
   ]
  },
  {
   "cell_type": "code",
   "execution_count": 15,
   "metadata": {},
   "outputs": [
    {
     "data": {
      "text/plain": [
       "(30000, 17)"
      ]
     },
     "execution_count": 15,
     "metadata": {},
     "output_type": "execute_result"
    }
   ],
   "source": [
    "X.shape"
   ]
  },
  {
   "cell_type": "code",
   "execution_count": 16,
   "metadata": {},
   "outputs": [],
   "source": [
    "#Train Test Split\n",
    "from sklearn.model_selection import train_test_split\n",
    "X_train,X_test,y_train,y_test=train_test_split(X,y,test_size=0.30,random_state=2529,stratify=y)"
   ]
  },
  {
   "cell_type": "code",
   "execution_count": 17,
   "metadata": {},
   "outputs": [
    {
     "data": {
      "text/plain": [
       "(attack\n",
       " 0    11595\n",
       " 1     9405\n",
       " Name: count, dtype: int64,\n",
       " attack\n",
       " 0    4969\n",
       " 1    4031\n",
       " Name: count, dtype: int64)"
      ]
     },
     "execution_count": 17,
     "metadata": {},
     "output_type": "execute_result"
    }
   ],
   "source": [
    "y_train.value_counts(),y_test.value_counts()"
   ]
  },
  {
   "cell_type": "code",
   "execution_count": 18,
   "metadata": {},
   "outputs": [
    {
     "data": {
      "text/html": [
       "<div>\n",
       "<style scoped>\n",
       "    .dataframe tbody tr th:only-of-type {\n",
       "        vertical-align: middle;\n",
       "    }\n",
       "\n",
       "    .dataframe tbody tr th {\n",
       "        vertical-align: top;\n",
       "    }\n",
       "\n",
       "    .dataframe thead th {\n",
       "        text-align: right;\n",
       "    }\n",
       "</style>\n",
       "<table border=\"1\" class=\"dataframe\">\n",
       "  <thead>\n",
       "    <tr style=\"text-align: right;\">\n",
       "      <th></th>\n",
       "      <th>rcvTime</th>\n",
       "      <th>pos_0</th>\n",
       "      <th>pos_1</th>\n",
       "      <th>pos_noise_0</th>\n",
       "      <th>pos_noise_1</th>\n",
       "      <th>spd_0</th>\n",
       "      <th>spd_1</th>\n",
       "      <th>spd_noise_0</th>\n",
       "      <th>spd_noise_1</th>\n",
       "      <th>acl_0</th>\n",
       "      <th>acl_1</th>\n",
       "      <th>acl_noise_0</th>\n",
       "      <th>acl_noise_1</th>\n",
       "      <th>hed_0</th>\n",
       "      <th>hed_1</th>\n",
       "      <th>hed_noise_0</th>\n",
       "      <th>hed_noise_1</th>\n",
       "    </tr>\n",
       "  </thead>\n",
       "  <tbody>\n",
       "    <tr>\n",
       "      <th>rcvTime</th>\n",
       "      <td>1.000000</td>\n",
       "      <td>-0.096902</td>\n",
       "      <td>0.027599</td>\n",
       "      <td>-0.007198</td>\n",
       "      <td>-0.006532</td>\n",
       "      <td>-0.026679</td>\n",
       "      <td>-0.001785</td>\n",
       "      <td>0.013378</td>\n",
       "      <td>-0.003653</td>\n",
       "      <td>0.007141</td>\n",
       "      <td>-0.015865</td>\n",
       "      <td>-0.007956</td>\n",
       "      <td>0.003083</td>\n",
       "      <td>-0.040285</td>\n",
       "      <td>-0.016495</td>\n",
       "      <td>-0.016648</td>\n",
       "      <td>-0.013789</td>\n",
       "    </tr>\n",
       "    <tr>\n",
       "      <th>pos_0</th>\n",
       "      <td>-0.096902</td>\n",
       "      <td>1.000000</td>\n",
       "      <td>0.375482</td>\n",
       "      <td>0.067471</td>\n",
       "      <td>0.067605</td>\n",
       "      <td>0.035941</td>\n",
       "      <td>-0.021146</td>\n",
       "      <td>-0.004832</td>\n",
       "      <td>-0.001321</td>\n",
       "      <td>-0.069254</td>\n",
       "      <td>-0.028660</td>\n",
       "      <td>0.094844</td>\n",
       "      <td>0.050212</td>\n",
       "      <td>-0.037667</td>\n",
       "      <td>-0.076637</td>\n",
       "      <td>0.152185</td>\n",
       "      <td>0.069281</td>\n",
       "    </tr>\n",
       "    <tr>\n",
       "      <th>pos_1</th>\n",
       "      <td>0.027599</td>\n",
       "      <td>0.375482</td>\n",
       "      <td>1.000000</td>\n",
       "      <td>-0.005330</td>\n",
       "      <td>-0.005271</td>\n",
       "      <td>-0.001982</td>\n",
       "      <td>-0.065707</td>\n",
       "      <td>-0.005699</td>\n",
       "      <td>0.002950</td>\n",
       "      <td>0.004019</td>\n",
       "      <td>-0.141181</td>\n",
       "      <td>0.042930</td>\n",
       "      <td>0.044509</td>\n",
       "      <td>-0.033642</td>\n",
       "      <td>-0.179325</td>\n",
       "      <td>0.015206</td>\n",
       "      <td>0.022505</td>\n",
       "    </tr>\n",
       "    <tr>\n",
       "      <th>pos_noise_0</th>\n",
       "      <td>-0.007198</td>\n",
       "      <td>0.067471</td>\n",
       "      <td>-0.005330</td>\n",
       "      <td>1.000000</td>\n",
       "      <td>0.995564</td>\n",
       "      <td>0.004375</td>\n",
       "      <td>-0.001498</td>\n",
       "      <td>-0.000232</td>\n",
       "      <td>0.000308</td>\n",
       "      <td>0.037069</td>\n",
       "      <td>-0.017278</td>\n",
       "      <td>0.006061</td>\n",
       "      <td>0.004799</td>\n",
       "      <td>-0.010685</td>\n",
       "      <td>0.004937</td>\n",
       "      <td>0.678876</td>\n",
       "      <td>0.659204</td>\n",
       "    </tr>\n",
       "    <tr>\n",
       "      <th>pos_noise_1</th>\n",
       "      <td>-0.006532</td>\n",
       "      <td>0.067605</td>\n",
       "      <td>-0.005271</td>\n",
       "      <td>0.995564</td>\n",
       "      <td>1.000000</td>\n",
       "      <td>0.003223</td>\n",
       "      <td>-0.002046</td>\n",
       "      <td>0.000123</td>\n",
       "      <td>0.000545</td>\n",
       "      <td>0.036779</td>\n",
       "      <td>-0.018153</td>\n",
       "      <td>0.006926</td>\n",
       "      <td>0.005827</td>\n",
       "      <td>-0.011959</td>\n",
       "      <td>0.004800</td>\n",
       "      <td>0.680183</td>\n",
       "      <td>0.659602</td>\n",
       "    </tr>\n",
       "    <tr>\n",
       "      <th>spd_0</th>\n",
       "      <td>-0.026679</td>\n",
       "      <td>0.035941</td>\n",
       "      <td>-0.001982</td>\n",
       "      <td>0.004375</td>\n",
       "      <td>0.003223</td>\n",
       "      <td>1.000000</td>\n",
       "      <td>0.405138</td>\n",
       "      <td>0.007157</td>\n",
       "      <td>0.001059</td>\n",
       "      <td>0.114767</td>\n",
       "      <td>0.091068</td>\n",
       "      <td>-0.000827</td>\n",
       "      <td>-0.007349</td>\n",
       "      <td>0.632987</td>\n",
       "      <td>0.023491</td>\n",
       "      <td>-0.308362</td>\n",
       "      <td>-0.041020</td>\n",
       "    </tr>\n",
       "    <tr>\n",
       "      <th>spd_1</th>\n",
       "      <td>-0.001785</td>\n",
       "      <td>-0.021146</td>\n",
       "      <td>-0.065707</td>\n",
       "      <td>-0.001498</td>\n",
       "      <td>-0.002046</td>\n",
       "      <td>0.405138</td>\n",
       "      <td>1.000000</td>\n",
       "      <td>0.001965</td>\n",
       "      <td>-0.010137</td>\n",
       "      <td>0.111574</td>\n",
       "      <td>0.095559</td>\n",
       "      <td>0.002295</td>\n",
       "      <td>0.001531</td>\n",
       "      <td>0.171057</td>\n",
       "      <td>0.602311</td>\n",
       "      <td>-0.059983</td>\n",
       "      <td>-0.346202</td>\n",
       "    </tr>\n",
       "    <tr>\n",
       "      <th>spd_noise_0</th>\n",
       "      <td>0.013378</td>\n",
       "      <td>-0.004832</td>\n",
       "      <td>-0.005699</td>\n",
       "      <td>-0.000232</td>\n",
       "      <td>0.000123</td>\n",
       "      <td>0.007157</td>\n",
       "      <td>0.001965</td>\n",
       "      <td>1.000000</td>\n",
       "      <td>0.163771</td>\n",
       "      <td>0.001220</td>\n",
       "      <td>-0.004842</td>\n",
       "      <td>0.008358</td>\n",
       "      <td>0.013372</td>\n",
       "      <td>0.001735</td>\n",
       "      <td>0.003009</td>\n",
       "      <td>-0.000567</td>\n",
       "      <td>0.003028</td>\n",
       "    </tr>\n",
       "    <tr>\n",
       "      <th>spd_noise_1</th>\n",
       "      <td>-0.003653</td>\n",
       "      <td>-0.001321</td>\n",
       "      <td>0.002950</td>\n",
       "      <td>0.000308</td>\n",
       "      <td>0.000545</td>\n",
       "      <td>0.001059</td>\n",
       "      <td>-0.010137</td>\n",
       "      <td>0.163771</td>\n",
       "      <td>1.000000</td>\n",
       "      <td>-0.005165</td>\n",
       "      <td>-0.005643</td>\n",
       "      <td>0.023399</td>\n",
       "      <td>0.021364</td>\n",
       "      <td>0.003407</td>\n",
       "      <td>-0.005565</td>\n",
       "      <td>0.000313</td>\n",
       "      <td>0.007472</td>\n",
       "    </tr>\n",
       "    <tr>\n",
       "      <th>acl_0</th>\n",
       "      <td>0.007141</td>\n",
       "      <td>-0.069254</td>\n",
       "      <td>0.004019</td>\n",
       "      <td>0.037069</td>\n",
       "      <td>0.036779</td>\n",
       "      <td>0.114767</td>\n",
       "      <td>0.111574</td>\n",
       "      <td>0.001220</td>\n",
       "      <td>-0.005165</td>\n",
       "      <td>1.000000</td>\n",
       "      <td>0.041981</td>\n",
       "      <td>0.003041</td>\n",
       "      <td>-0.025567</td>\n",
       "      <td>-0.001211</td>\n",
       "      <td>0.019643</td>\n",
       "      <td>0.021158</td>\n",
       "      <td>0.015371</td>\n",
       "    </tr>\n",
       "    <tr>\n",
       "      <th>acl_1</th>\n",
       "      <td>-0.015865</td>\n",
       "      <td>-0.028660</td>\n",
       "      <td>-0.141181</td>\n",
       "      <td>-0.017278</td>\n",
       "      <td>-0.018153</td>\n",
       "      <td>0.091068</td>\n",
       "      <td>0.095559</td>\n",
       "      <td>-0.004842</td>\n",
       "      <td>-0.005643</td>\n",
       "      <td>0.041981</td>\n",
       "      <td>1.000000</td>\n",
       "      <td>0.028340</td>\n",
       "      <td>-0.023965</td>\n",
       "      <td>0.009630</td>\n",
       "      <td>0.020471</td>\n",
       "      <td>-0.013845</td>\n",
       "      <td>-0.020744</td>\n",
       "    </tr>\n",
       "    <tr>\n",
       "      <th>acl_noise_0</th>\n",
       "      <td>-0.007956</td>\n",
       "      <td>0.094844</td>\n",
       "      <td>0.042930</td>\n",
       "      <td>0.006061</td>\n",
       "      <td>0.006926</td>\n",
       "      <td>-0.000827</td>\n",
       "      <td>0.002295</td>\n",
       "      <td>0.008358</td>\n",
       "      <td>0.023399</td>\n",
       "      <td>0.003041</td>\n",
       "      <td>0.028340</td>\n",
       "      <td>1.000000</td>\n",
       "      <td>0.545074</td>\n",
       "      <td>-0.020304</td>\n",
       "      <td>-0.002743</td>\n",
       "      <td>0.001408</td>\n",
       "      <td>0.001044</td>\n",
       "    </tr>\n",
       "    <tr>\n",
       "      <th>acl_noise_1</th>\n",
       "      <td>0.003083</td>\n",
       "      <td>0.050212</td>\n",
       "      <td>0.044509</td>\n",
       "      <td>0.004799</td>\n",
       "      <td>0.005827</td>\n",
       "      <td>-0.007349</td>\n",
       "      <td>0.001531</td>\n",
       "      <td>0.013372</td>\n",
       "      <td>0.021364</td>\n",
       "      <td>-0.025567</td>\n",
       "      <td>-0.023965</td>\n",
       "      <td>0.545074</td>\n",
       "      <td>1.000000</td>\n",
       "      <td>0.005207</td>\n",
       "      <td>0.014151</td>\n",
       "      <td>-0.001341</td>\n",
       "      <td>-0.007704</td>\n",
       "    </tr>\n",
       "    <tr>\n",
       "      <th>hed_0</th>\n",
       "      <td>-0.040285</td>\n",
       "      <td>-0.037667</td>\n",
       "      <td>-0.033642</td>\n",
       "      <td>-0.010685</td>\n",
       "      <td>-0.011959</td>\n",
       "      <td>0.632987</td>\n",
       "      <td>0.171057</td>\n",
       "      <td>0.001735</td>\n",
       "      <td>0.003407</td>\n",
       "      <td>-0.001211</td>\n",
       "      <td>0.009630</td>\n",
       "      <td>-0.020304</td>\n",
       "      <td>0.005207</td>\n",
       "      <td>1.000000</td>\n",
       "      <td>0.083404</td>\n",
       "      <td>-0.384531</td>\n",
       "      <td>-0.099763</td>\n",
       "    </tr>\n",
       "    <tr>\n",
       "      <th>hed_1</th>\n",
       "      <td>-0.016495</td>\n",
       "      <td>-0.076637</td>\n",
       "      <td>-0.179325</td>\n",
       "      <td>0.004937</td>\n",
       "      <td>0.004800</td>\n",
       "      <td>0.023491</td>\n",
       "      <td>0.602311</td>\n",
       "      <td>0.003009</td>\n",
       "      <td>-0.005565</td>\n",
       "      <td>0.019643</td>\n",
       "      <td>0.020471</td>\n",
       "      <td>-0.002743</td>\n",
       "      <td>0.014151</td>\n",
       "      <td>0.083404</td>\n",
       "      <td>1.000000</td>\n",
       "      <td>0.014909</td>\n",
       "      <td>-0.359222</td>\n",
       "    </tr>\n",
       "    <tr>\n",
       "      <th>hed_noise_0</th>\n",
       "      <td>-0.016648</td>\n",
       "      <td>0.152185</td>\n",
       "      <td>0.015206</td>\n",
       "      <td>0.678876</td>\n",
       "      <td>0.680183</td>\n",
       "      <td>-0.308362</td>\n",
       "      <td>-0.059983</td>\n",
       "      <td>-0.000567</td>\n",
       "      <td>0.000313</td>\n",
       "      <td>0.021158</td>\n",
       "      <td>-0.013845</td>\n",
       "      <td>0.001408</td>\n",
       "      <td>-0.001341</td>\n",
       "      <td>-0.384531</td>\n",
       "      <td>0.014909</td>\n",
       "      <td>1.000000</td>\n",
       "      <td>0.689045</td>\n",
       "    </tr>\n",
       "    <tr>\n",
       "      <th>hed_noise_1</th>\n",
       "      <td>-0.013789</td>\n",
       "      <td>0.069281</td>\n",
       "      <td>0.022505</td>\n",
       "      <td>0.659204</td>\n",
       "      <td>0.659602</td>\n",
       "      <td>-0.041020</td>\n",
       "      <td>-0.346202</td>\n",
       "      <td>0.003028</td>\n",
       "      <td>0.007472</td>\n",
       "      <td>0.015371</td>\n",
       "      <td>-0.020744</td>\n",
       "      <td>0.001044</td>\n",
       "      <td>-0.007704</td>\n",
       "      <td>-0.099763</td>\n",
       "      <td>-0.359222</td>\n",
       "      <td>0.689045</td>\n",
       "      <td>1.000000</td>\n",
       "    </tr>\n",
       "  </tbody>\n",
       "</table>\n",
       "</div>"
      ],
      "text/plain": [
       "              rcvTime     pos_0     pos_1  pos_noise_0  pos_noise_1     spd_0  \\\n",
       "rcvTime      1.000000 -0.096902  0.027599    -0.007198    -0.006532 -0.026679   \n",
       "pos_0       -0.096902  1.000000  0.375482     0.067471     0.067605  0.035941   \n",
       "pos_1        0.027599  0.375482  1.000000    -0.005330    -0.005271 -0.001982   \n",
       "pos_noise_0 -0.007198  0.067471 -0.005330     1.000000     0.995564  0.004375   \n",
       "pos_noise_1 -0.006532  0.067605 -0.005271     0.995564     1.000000  0.003223   \n",
       "spd_0       -0.026679  0.035941 -0.001982     0.004375     0.003223  1.000000   \n",
       "spd_1       -0.001785 -0.021146 -0.065707    -0.001498    -0.002046  0.405138   \n",
       "spd_noise_0  0.013378 -0.004832 -0.005699    -0.000232     0.000123  0.007157   \n",
       "spd_noise_1 -0.003653 -0.001321  0.002950     0.000308     0.000545  0.001059   \n",
       "acl_0        0.007141 -0.069254  0.004019     0.037069     0.036779  0.114767   \n",
       "acl_1       -0.015865 -0.028660 -0.141181    -0.017278    -0.018153  0.091068   \n",
       "acl_noise_0 -0.007956  0.094844  0.042930     0.006061     0.006926 -0.000827   \n",
       "acl_noise_1  0.003083  0.050212  0.044509     0.004799     0.005827 -0.007349   \n",
       "hed_0       -0.040285 -0.037667 -0.033642    -0.010685    -0.011959  0.632987   \n",
       "hed_1       -0.016495 -0.076637 -0.179325     0.004937     0.004800  0.023491   \n",
       "hed_noise_0 -0.016648  0.152185  0.015206     0.678876     0.680183 -0.308362   \n",
       "hed_noise_1 -0.013789  0.069281  0.022505     0.659204     0.659602 -0.041020   \n",
       "\n",
       "                spd_1  spd_noise_0  spd_noise_1     acl_0     acl_1  \\\n",
       "rcvTime     -0.001785     0.013378    -0.003653  0.007141 -0.015865   \n",
       "pos_0       -0.021146    -0.004832    -0.001321 -0.069254 -0.028660   \n",
       "pos_1       -0.065707    -0.005699     0.002950  0.004019 -0.141181   \n",
       "pos_noise_0 -0.001498    -0.000232     0.000308  0.037069 -0.017278   \n",
       "pos_noise_1 -0.002046     0.000123     0.000545  0.036779 -0.018153   \n",
       "spd_0        0.405138     0.007157     0.001059  0.114767  0.091068   \n",
       "spd_1        1.000000     0.001965    -0.010137  0.111574  0.095559   \n",
       "spd_noise_0  0.001965     1.000000     0.163771  0.001220 -0.004842   \n",
       "spd_noise_1 -0.010137     0.163771     1.000000 -0.005165 -0.005643   \n",
       "acl_0        0.111574     0.001220    -0.005165  1.000000  0.041981   \n",
       "acl_1        0.095559    -0.004842    -0.005643  0.041981  1.000000   \n",
       "acl_noise_0  0.002295     0.008358     0.023399  0.003041  0.028340   \n",
       "acl_noise_1  0.001531     0.013372     0.021364 -0.025567 -0.023965   \n",
       "hed_0        0.171057     0.001735     0.003407 -0.001211  0.009630   \n",
       "hed_1        0.602311     0.003009    -0.005565  0.019643  0.020471   \n",
       "hed_noise_0 -0.059983    -0.000567     0.000313  0.021158 -0.013845   \n",
       "hed_noise_1 -0.346202     0.003028     0.007472  0.015371 -0.020744   \n",
       "\n",
       "             acl_noise_0  acl_noise_1     hed_0     hed_1  hed_noise_0  \\\n",
       "rcvTime        -0.007956     0.003083 -0.040285 -0.016495    -0.016648   \n",
       "pos_0           0.094844     0.050212 -0.037667 -0.076637     0.152185   \n",
       "pos_1           0.042930     0.044509 -0.033642 -0.179325     0.015206   \n",
       "pos_noise_0     0.006061     0.004799 -0.010685  0.004937     0.678876   \n",
       "pos_noise_1     0.006926     0.005827 -0.011959  0.004800     0.680183   \n",
       "spd_0          -0.000827    -0.007349  0.632987  0.023491    -0.308362   \n",
       "spd_1           0.002295     0.001531  0.171057  0.602311    -0.059983   \n",
       "spd_noise_0     0.008358     0.013372  0.001735  0.003009    -0.000567   \n",
       "spd_noise_1     0.023399     0.021364  0.003407 -0.005565     0.000313   \n",
       "acl_0           0.003041    -0.025567 -0.001211  0.019643     0.021158   \n",
       "acl_1           0.028340    -0.023965  0.009630  0.020471    -0.013845   \n",
       "acl_noise_0     1.000000     0.545074 -0.020304 -0.002743     0.001408   \n",
       "acl_noise_1     0.545074     1.000000  0.005207  0.014151    -0.001341   \n",
       "hed_0          -0.020304     0.005207  1.000000  0.083404    -0.384531   \n",
       "hed_1          -0.002743     0.014151  0.083404  1.000000     0.014909   \n",
       "hed_noise_0     0.001408    -0.001341 -0.384531  0.014909     1.000000   \n",
       "hed_noise_1     0.001044    -0.007704 -0.099763 -0.359222     0.689045   \n",
       "\n",
       "             hed_noise_1  \n",
       "rcvTime        -0.013789  \n",
       "pos_0           0.069281  \n",
       "pos_1           0.022505  \n",
       "pos_noise_0     0.659204  \n",
       "pos_noise_1     0.659602  \n",
       "spd_0          -0.041020  \n",
       "spd_1          -0.346202  \n",
       "spd_noise_0     0.003028  \n",
       "spd_noise_1     0.007472  \n",
       "acl_0           0.015371  \n",
       "acl_1          -0.020744  \n",
       "acl_noise_0     0.001044  \n",
       "acl_noise_1    -0.007704  \n",
       "hed_0          -0.099763  \n",
       "hed_1          -0.359222  \n",
       "hed_noise_0     0.689045  \n",
       "hed_noise_1     1.000000  "
      ]
     },
     "execution_count": 18,
     "metadata": {},
     "output_type": "execute_result"
    }
   ],
   "source": [
    "## Feature Selection based on correlaltion\n",
    "X_train.corr()"
   ]
  },
  {
   "cell_type": "code",
   "execution_count": 19,
   "metadata": {},
   "outputs": [],
   "source": [
    "import seaborn as sns\n",
    "import matplotlib.pyplot as plt\n",
    "import warnings\n",
    "warnings.filterwarnings(\"ignore\")"
   ]
  },
  {
   "cell_type": "code",
   "execution_count": 20,
   "metadata": {},
   "outputs": [
    {
     "data": {
      "text/plain": [
       "<Axes: >"
      ]
     },
     "execution_count": 20,
     "metadata": {},
     "output_type": "execute_result"
    },
    {
     "data": {
      "image/png": "[encoded data removed]",
      "text/plain": [
       "<Figure size 1200x1000 with 2 Axes>"
      ]
     },
     "metadata": {},
     "output_type": "display_data"
    }
   ],
   "source": [
    "## Check for multicollinearity\n",
    "plt.figure(figsize=(12,10))\n",
    "\n",
    "corr=X_train.corr()\n",
    "sns.heatmap(corr,annot=True)"
   ]
  },
  {
   "cell_type": "code",
   "execution_count": 21,
   "metadata": {},
   "outputs": [],
   "source": [
    "def correlation(dataset, threshold):\n",
    "    col_corr = set()\n",
    "    corr_matrix = dataset.corr()\n",
    "    for i in range(len(corr_matrix.columns)):\n",
    "        for j in range(i):\n",
    "            if abs(corr_matrix.iloc[i, j]) > threshold: \n",
    "                colname = corr_matrix.columns[i]\n",
    "                col_corr.add(colname)\n",
    "    return col_corr"
   ]
  },
  {
   "cell_type": "code",
   "execution_count": 22,
   "metadata": {},
   "outputs": [],
   "source": [
    "## threshold--Domain expertise\n",
    "corr_features=correlation(X_train,0.70)"
   ]
  },
  {
   "cell_type": "code",
   "execution_count": 23,
   "metadata": {},
   "outputs": [
    {
     "data": {
      "text/plain": [
       "{'pos_noise_1'}"
      ]
     },
     "execution_count": 23,
     "metadata": {},
     "output_type": "execute_result"
    }
   ],
   "source": [
    "corr_features"
   ]
  },
  {
   "cell_type": "code",
   "execution_count": 24,
   "metadata": {},
   "outputs": [
    {
     "data": {
      "text/plain": [
       "((21000, 16), (9000, 16))"
      ]
     },
     "execution_count": 24,
     "metadata": {},
     "output_type": "execute_result"
    }
   ],
   "source": [
    "## drop features when correlation is more than 0.85 \n",
    "X_train.drop(corr_features,axis=1,inplace=True)\n",
    "X_test.drop(corr_features,axis=1,inplace=True)\n",
    "X_train.shape,X_test.shape"
   ]
  },
  {
   "cell_type": "code",
   "execution_count": 25,
   "metadata": {},
   "outputs": [],
   "source": [
    "from sklearn.preprocessing import StandardScaler, MinMaxScaler\n",
    "scaler=StandardScaler()\n",
    "mm=MinMaxScaler()\n",
    "X_train_scaled=mm.fit_transform(X_train)\n",
    "X_test_scaled=mm.transform(X_test)"
   ]
  },
  {
   "cell_type": "code",
   "execution_count": 26,
   "metadata": {},
   "outputs": [
    {
     "data": {
      "text/html": [
       "<div>\n",
       "<style scoped>\n",
       "    .dataframe tbody tr th:only-of-type {\n",
       "        vertical-align: middle;\n",
       "    }\n",
       "\n",
       "    .dataframe tbody tr th {\n",
       "        vertical-align: top;\n",
       "    }\n",
       "\n",
       "    .dataframe thead th {\n",
       "        text-align: right;\n",
       "    }\n",
       "</style>\n",
       "<table border=\"1\" class=\"dataframe\">\n",
       "  <thead>\n",
       "    <tr style=\"text-align: right;\">\n",
       "      <th></th>\n",
       "      <th>0</th>\n",
       "      <th>1</th>\n",
       "      <th>2</th>\n",
       "      <th>3</th>\n",
       "      <th>4</th>\n",
       "      <th>5</th>\n",
       "      <th>6</th>\n",
       "      <th>7</th>\n",
       "      <th>8</th>\n",
       "      <th>9</th>\n",
       "      <th>10</th>\n",
       "      <th>11</th>\n",
       "      <th>12</th>\n",
       "      <th>13</th>\n",
       "      <th>14</th>\n",
       "      <th>15</th>\n",
       "    </tr>\n",
       "  </thead>\n",
       "  <tbody>\n",
       "    <tr>\n",
       "      <th>count</th>\n",
       "      <td>21000.000000</td>\n",
       "      <td>21000.000000</td>\n",
       "      <td>21000.000000</td>\n",
       "      <td>21000.000000</td>\n",
       "      <td>21000.000000</td>\n",
       "      <td>21000.000000</td>\n",
       "      <td>21000.000000</td>\n",
       "      <td>21000.000000</td>\n",
       "      <td>21000.000000</td>\n",
       "      <td>21000.000000</td>\n",
       "      <td>21000.000000</td>\n",
       "      <td>21000.000000</td>\n",
       "      <td>21000.000000</td>\n",
       "      <td>21000.000000</td>\n",
       "      <td>21000.000000</td>\n",
       "      <td>21000.000000</td>\n",
       "    </tr>\n",
       "    <tr>\n",
       "      <th>mean</th>\n",
       "      <td>0.459759</td>\n",
       "      <td>0.191571</td>\n",
       "      <td>0.498654</td>\n",
       "      <td>0.016209</td>\n",
       "      <td>0.422616</td>\n",
       "      <td>0.421889</td>\n",
       "      <td>0.533443</td>\n",
       "      <td>0.479868</td>\n",
       "      <td>0.505314</td>\n",
       "      <td>0.504662</td>\n",
       "      <td>0.013861</td>\n",
       "      <td>0.015349</td>\n",
       "      <td>0.464135</td>\n",
       "      <td>0.518545</td>\n",
       "      <td>0.006895</td>\n",
       "      <td>0.006816</td>\n",
       "    </tr>\n",
       "    <tr>\n",
       "      <th>std</th>\n",
       "      <td>0.429032</td>\n",
       "      <td>0.148533</td>\n",
       "      <td>0.115960</td>\n",
       "      <td>0.008529</td>\n",
       "      <td>0.139212</td>\n",
       "      <td>0.149125</td>\n",
       "      <td>0.066353</td>\n",
       "      <td>0.087918</td>\n",
       "      <td>0.105423</td>\n",
       "      <td>0.132113</td>\n",
       "      <td>0.043270</td>\n",
       "      <td>0.040387</td>\n",
       "      <td>0.319581</td>\n",
       "      <td>0.374442</td>\n",
       "      <td>0.010282</td>\n",
       "      <td>0.010553</td>\n",
       "    </tr>\n",
       "    <tr>\n",
       "      <th>min</th>\n",
       "      <td>0.000000</td>\n",
       "      <td>0.000000</td>\n",
       "      <td>0.000000</td>\n",
       "      <td>0.000000</td>\n",
       "      <td>0.000000</td>\n",
       "      <td>0.000000</td>\n",
       "      <td>0.000000</td>\n",
       "      <td>0.000000</td>\n",
       "      <td>0.000000</td>\n",
       "      <td>0.000000</td>\n",
       "      <td>0.000000</td>\n",
       "      <td>0.000000</td>\n",
       "      <td>0.000000</td>\n",
       "      <td>0.000000</td>\n",
       "      <td>0.000000</td>\n",
       "      <td>0.000000</td>\n",
       "    </tr>\n",
       "    <tr>\n",
       "      <th>25%</th>\n",
       "      <td>0.066818</td>\n",
       "      <td>0.069725</td>\n",
       "      <td>0.398959</td>\n",
       "      <td>0.014108</td>\n",
       "      <td>0.369012</td>\n",
       "      <td>0.333262</td>\n",
       "      <td>0.519852</td>\n",
       "      <td>0.451511</td>\n",
       "      <td>0.481092</td>\n",
       "      <td>0.478072</td>\n",
       "      <td>0.000073</td>\n",
       "      <td>0.000084</td>\n",
       "      <td>0.169746</td>\n",
       "      <td>0.113418</td>\n",
       "      <td>0.001999</td>\n",
       "      <td>0.001797</td>\n",
       "    </tr>\n",
       "    <tr>\n",
       "      <th>50%</th>\n",
       "      <td>0.115880</td>\n",
       "      <td>0.098405</td>\n",
       "      <td>0.520777</td>\n",
       "      <td>0.016143</td>\n",
       "      <td>0.405525</td>\n",
       "      <td>0.394006</td>\n",
       "      <td>0.533218</td>\n",
       "      <td>0.479925</td>\n",
       "      <td>0.499927</td>\n",
       "      <td>0.500008</td>\n",
       "      <td>0.001048</td>\n",
       "      <td>0.000990</td>\n",
       "      <td>0.484900</td>\n",
       "      <td>0.527364</td>\n",
       "      <td>0.004765</td>\n",
       "      <td>0.004166</td>\n",
       "    </tr>\n",
       "    <tr>\n",
       "      <th>75%</th>\n",
       "      <td>0.922289</td>\n",
       "      <td>0.324235</td>\n",
       "      <td>0.587264</td>\n",
       "      <td>0.018202</td>\n",
       "      <td>0.468081</td>\n",
       "      <td>0.512067</td>\n",
       "      <td>0.547321</td>\n",
       "      <td>0.507408</td>\n",
       "      <td>0.523546</td>\n",
       "      <td>0.534941</td>\n",
       "      <td>0.007362</td>\n",
       "      <td>0.011251</td>\n",
       "      <td>0.587632</td>\n",
       "      <td>0.926233</td>\n",
       "      <td>0.008829</td>\n",
       "      <td>0.008716</td>\n",
       "    </tr>\n",
       "    <tr>\n",
       "      <th>max</th>\n",
       "      <td>1.000000</td>\n",
       "      <td>1.000000</td>\n",
       "      <td>1.000000</td>\n",
       "      <td>1.000000</td>\n",
       "      <td>1.000000</td>\n",
       "      <td>1.000000</td>\n",
       "      <td>1.000000</td>\n",
       "      <td>1.000000</td>\n",
       "      <td>1.000000</td>\n",
       "      <td>1.000000</td>\n",
       "      <td>1.000000</td>\n",
       "      <td>1.000000</td>\n",
       "      <td>1.000000</td>\n",
       "      <td>1.000000</td>\n",
       "      <td>1.000000</td>\n",
       "      <td>1.000000</td>\n",
       "    </tr>\n",
       "  </tbody>\n",
       "</table>\n",
       "</div>"
      ],
      "text/plain": [
       "                 0             1             2             3             4   \\\n",
       "count  21000.000000  21000.000000  21000.000000  21000.000000  21000.000000   \n",
       "mean       0.459759      0.191571      0.498654      0.016209      0.422616   \n",
       "std        0.429032      0.148533      0.115960      0.008529      0.139212   \n",
       "min        0.000000      0.000000      0.000000      0.000000      0.000000   \n",
       "25%        0.066818      0.069725      0.398959      0.014108      0.369012   \n",
       "50%        0.115880      0.098405      0.520777      0.016143      0.405525   \n",
       "75%        0.922289      0.324235      0.587264      0.018202      0.468081   \n",
       "max        1.000000      1.000000      1.000000      1.000000      1.000000   \n",
       "\n",
       "                 5             6             7             8             9   \\\n",
       "count  21000.000000  21000.000000  21000.000000  21000.000000  21000.000000   \n",
       "mean       0.421889      0.533443      0.479868      0.505314      0.504662   \n",
       "std        0.149125      0.066353      0.087918      0.105423      0.132113   \n",
       "min        0.000000      0.000000      0.000000      0.000000      0.000000   \n",
       "25%        0.333262      0.519852      0.451511      0.481092      0.478072   \n",
       "50%        0.394006      0.533218      0.479925      0.499927      0.500008   \n",
       "75%        0.512067      0.547321      0.507408      0.523546      0.534941   \n",
       "max        1.000000      1.000000      1.000000      1.000000      1.000000   \n",
       "\n",
       "                 10            11            12            13            14  \\\n",
       "count  21000.000000  21000.000000  21000.000000  21000.000000  21000.000000   \n",
       "mean       0.013861      0.015349      0.464135      0.518545      0.006895   \n",
       "std        0.043270      0.040387      0.319581      0.374442      0.010282   \n",
       "min        0.000000      0.000000      0.000000      0.000000      0.000000   \n",
       "25%        0.000073      0.000084      0.169746      0.113418      0.001999   \n",
       "50%        0.001048      0.000990      0.484900      0.527364      0.004765   \n",
       "75%        0.007362      0.011251      0.587632      0.926233      0.008829   \n",
       "max        1.000000      1.000000      1.000000      1.000000      1.000000   \n",
       "\n",
       "                 15  \n",
       "count  21000.000000  \n",
       "mean       0.006816  \n",
       "std        0.010553  \n",
       "min        0.000000  \n",
       "25%        0.001797  \n",
       "50%        0.004166  \n",
       "75%        0.008716  \n",
       "max        1.000000  "
      ]
     },
     "execution_count": 26,
     "metadata": {},
     "output_type": "execute_result"
    }
   ],
   "source": [
    "pd.DataFrame(X_train_scaled).describe()"
   ]
  },
  {
   "cell_type": "code",
   "execution_count": 27,
   "metadata": {},
   "outputs": [
    {
     "data": {
      "text/html": [
       "<div>\n",
       "<style scoped>\n",
       "    .dataframe tbody tr th:only-of-type {\n",
       "        vertical-align: middle;\n",
       "    }\n",
       "\n",
       "    .dataframe tbody tr th {\n",
       "        vertical-align: top;\n",
       "    }\n",
       "\n",
       "    .dataframe thead th {\n",
       "        text-align: right;\n",
       "    }\n",
       "</style>\n",
       "<table border=\"1\" class=\"dataframe\">\n",
       "  <thead>\n",
       "    <tr style=\"text-align: right;\">\n",
       "      <th></th>\n",
       "      <th>0</th>\n",
       "      <th>1</th>\n",
       "      <th>2</th>\n",
       "      <th>3</th>\n",
       "      <th>4</th>\n",
       "      <th>5</th>\n",
       "      <th>6</th>\n",
       "      <th>7</th>\n",
       "      <th>8</th>\n",
       "      <th>9</th>\n",
       "      <th>10</th>\n",
       "      <th>11</th>\n",
       "      <th>12</th>\n",
       "      <th>13</th>\n",
       "      <th>14</th>\n",
       "      <th>15</th>\n",
       "    </tr>\n",
       "  </thead>\n",
       "  <tbody>\n",
       "    <tr>\n",
       "      <th>count</th>\n",
       "      <td>9000.000000</td>\n",
       "      <td>9000.000000</td>\n",
       "      <td>9000.000000</td>\n",
       "      <td>9000.000000</td>\n",
       "      <td>9000.000000</td>\n",
       "      <td>9000.000000</td>\n",
       "      <td>9000.000000</td>\n",
       "      <td>9000.000000</td>\n",
       "      <td>9000.000000</td>\n",
       "      <td>9000.000000</td>\n",
       "      <td>9000.000000</td>\n",
       "      <td>9000.000000</td>\n",
       "      <td>9.000000e+03</td>\n",
       "      <td>9.000000e+03</td>\n",
       "      <td>9000.000000</td>\n",
       "      <td>9000.000000</td>\n",
       "    </tr>\n",
       "    <tr>\n",
       "      <th>mean</th>\n",
       "      <td>0.463394</td>\n",
       "      <td>0.191171</td>\n",
       "      <td>0.496993</td>\n",
       "      <td>0.016291</td>\n",
       "      <td>0.422372</td>\n",
       "      <td>0.422740</td>\n",
       "      <td>0.533494</td>\n",
       "      <td>0.480263</td>\n",
       "      <td>0.504228</td>\n",
       "      <td>0.502939</td>\n",
       "      <td>0.012742</td>\n",
       "      <td>0.015788</td>\n",
       "      <td>4.657364e-01</td>\n",
       "      <td>5.236064e-01</td>\n",
       "      <td>0.006913</td>\n",
       "      <td>0.006668</td>\n",
       "    </tr>\n",
       "    <tr>\n",
       "      <th>std</th>\n",
       "      <td>0.429175</td>\n",
       "      <td>0.147333</td>\n",
       "      <td>0.116133</td>\n",
       "      <td>0.010738</td>\n",
       "      <td>0.139454</td>\n",
       "      <td>0.145712</td>\n",
       "      <td>0.066443</td>\n",
       "      <td>0.088263</td>\n",
       "      <td>0.100441</td>\n",
       "      <td>0.132932</td>\n",
       "      <td>0.037866</td>\n",
       "      <td>0.040167</td>\n",
       "      <td>3.222061e-01</td>\n",
       "      <td>3.732578e-01</td>\n",
       "      <td>0.011389</td>\n",
       "      <td>0.011464</td>\n",
       "    </tr>\n",
       "    <tr>\n",
       "      <th>min</th>\n",
       "      <td>-0.000159</td>\n",
       "      <td>0.000000</td>\n",
       "      <td>0.106990</td>\n",
       "      <td>0.000000</td>\n",
       "      <td>0.038528</td>\n",
       "      <td>0.067032</td>\n",
       "      <td>0.171823</td>\n",
       "      <td>0.020731</td>\n",
       "      <td>0.000052</td>\n",
       "      <td>0.001091</td>\n",
       "      <td>0.000000</td>\n",
       "      <td>0.000000</td>\n",
       "      <td>3.026861e-09</td>\n",
       "      <td>1.003088e-09</td>\n",
       "      <td>0.000000</td>\n",
       "      <td>0.000000</td>\n",
       "    </tr>\n",
       "    <tr>\n",
       "      <th>25%</th>\n",
       "      <td>0.067972</td>\n",
       "      <td>0.070782</td>\n",
       "      <td>0.398798</td>\n",
       "      <td>0.014113</td>\n",
       "      <td>0.370482</td>\n",
       "      <td>0.337010</td>\n",
       "      <td>0.519587</td>\n",
       "      <td>0.452698</td>\n",
       "      <td>0.480882</td>\n",
       "      <td>0.478107</td>\n",
       "      <td>0.000077</td>\n",
       "      <td>0.000078</td>\n",
       "      <td>1.668671e-01</td>\n",
       "      <td>1.294862e-01</td>\n",
       "      <td>0.001932</td>\n",
       "      <td>0.001833</td>\n",
       "    </tr>\n",
       "    <tr>\n",
       "      <th>50%</th>\n",
       "      <td>0.117085</td>\n",
       "      <td>0.098637</td>\n",
       "      <td>0.516515</td>\n",
       "      <td>0.016164</td>\n",
       "      <td>0.405525</td>\n",
       "      <td>0.394007</td>\n",
       "      <td>0.533218</td>\n",
       "      <td>0.479925</td>\n",
       "      <td>0.499928</td>\n",
       "      <td>0.500007</td>\n",
       "      <td>0.001061</td>\n",
       "      <td>0.001037</td>\n",
       "      <td>4.831010e-01</td>\n",
       "      <td>5.326403e-01</td>\n",
       "      <td>0.004731</td>\n",
       "      <td>0.004051</td>\n",
       "    </tr>\n",
       "    <tr>\n",
       "      <th>75%</th>\n",
       "      <td>0.922285</td>\n",
       "      <td>0.324387</td>\n",
       "      <td>0.587038</td>\n",
       "      <td>0.018162</td>\n",
       "      <td>0.469905</td>\n",
       "      <td>0.512466</td>\n",
       "      <td>0.547784</td>\n",
       "      <td>0.507740</td>\n",
       "      <td>0.522214</td>\n",
       "      <td>0.532946</td>\n",
       "      <td>0.007429</td>\n",
       "      <td>0.012794</td>\n",
       "      <td>6.048216e-01</td>\n",
       "      <td>9.426718e-01</td>\n",
       "      <td>0.008717</td>\n",
       "      <td>0.008552</td>\n",
       "    </tr>\n",
       "    <tr>\n",
       "      <th>max</th>\n",
       "      <td>0.998522</td>\n",
       "      <td>0.985874</td>\n",
       "      <td>0.869435</td>\n",
       "      <td>0.887722</td>\n",
       "      <td>0.998203</td>\n",
       "      <td>1.000666</td>\n",
       "      <td>0.910390</td>\n",
       "      <td>1.051801</td>\n",
       "      <td>0.999725</td>\n",
       "      <td>0.998661</td>\n",
       "      <td>0.781048</td>\n",
       "      <td>0.819803</td>\n",
       "      <td>1.000000e+00</td>\n",
       "      <td>1.000000e+00</td>\n",
       "      <td>0.835730</td>\n",
       "      <td>0.834326</td>\n",
       "    </tr>\n",
       "  </tbody>\n",
       "</table>\n",
       "</div>"
      ],
      "text/plain": [
       "                0            1            2            3            4   \\\n",
       "count  9000.000000  9000.000000  9000.000000  9000.000000  9000.000000   \n",
       "mean      0.463394     0.191171     0.496993     0.016291     0.422372   \n",
       "std       0.429175     0.147333     0.116133     0.010738     0.139454   \n",
       "min      -0.000159     0.000000     0.106990     0.000000     0.038528   \n",
       "25%       0.067972     0.070782     0.398798     0.014113     0.370482   \n",
       "50%       0.117085     0.098637     0.516515     0.016164     0.405525   \n",
       "75%       0.922285     0.324387     0.587038     0.018162     0.469905   \n",
       "max       0.998522     0.985874     0.869435     0.887722     0.998203   \n",
       "\n",
       "                5            6            7            8            9   \\\n",
       "count  9000.000000  9000.000000  9000.000000  9000.000000  9000.000000   \n",
       "mean      0.422740     0.533494     0.480263     0.504228     0.502939   \n",
       "std       0.145712     0.066443     0.088263     0.100441     0.132932   \n",
       "min       0.067032     0.171823     0.020731     0.000052     0.001091   \n",
       "25%       0.337010     0.519587     0.452698     0.480882     0.478107   \n",
       "50%       0.394007     0.533218     0.479925     0.499928     0.500007   \n",
       "75%       0.512466     0.547784     0.507740     0.522214     0.532946   \n",
       "max       1.000666     0.910390     1.051801     0.999725     0.998661   \n",
       "\n",
       "                10           11            12            13           14  \\\n",
       "count  9000.000000  9000.000000  9.000000e+03  9.000000e+03  9000.000000   \n",
       "mean      0.012742     0.015788  4.657364e-01  5.236064e-01     0.006913   \n",
       "std       0.037866     0.040167  3.222061e-01  3.732578e-01     0.011389   \n",
       "min       0.000000     0.000000  3.026861e-09  1.003088e-09     0.000000   \n",
       "25%       0.000077     0.000078  1.668671e-01  1.294862e-01     0.001932   \n",
       "50%       0.001061     0.001037  4.831010e-01  5.326403e-01     0.004731   \n",
       "75%       0.007429     0.012794  6.048216e-01  9.426718e-01     0.008717   \n",
       "max       0.781048     0.819803  1.000000e+00  1.000000e+00     0.835730   \n",
       "\n",
       "                15  \n",
       "count  9000.000000  \n",
       "mean      0.006668  \n",
       "std       0.011464  \n",
       "min       0.000000  \n",
       "25%       0.001833  \n",
       "50%       0.004051  \n",
       "75%       0.008552  \n",
       "max       0.834326  "
      ]
     },
     "execution_count": 27,
     "metadata": {},
     "output_type": "execute_result"
    }
   ],
   "source": [
    "pd.DataFrame(X_test_scaled).describe()"
   ]
  },
  {
   "cell_type": "code",
   "execution_count": 28,
   "metadata": {},
   "outputs": [
    {
     "data": {
      "text/plain": [
       "Text(0.5, 1.0, 'X_train After Scaling')"
      ]
     },
     "execution_count": 28,
     "metadata": {},
     "output_type": "execute_result"
    },
    {
     "data": {
      "image/png": "[encoded data removed]",
      "text/plain": [
       "<Figure size 3000x1800 with 3 Axes>"
      ]
     },
     "metadata": {},
     "output_type": "display_data"
    }
   ],
   "source": [
    "plt.subplots(figsize=(30, 18))\n",
    "plt.subplot(1, 2, 1)\n",
    "sns.boxplot(data=X_train)\n",
    "plt.title('X_train Before Scaling')\n",
    "plt.subplot(1, 2, 2)\n",
    "sns.boxplot(data=X_train_scaled)\n",
    "plt.title('X_train After Scaling')"
   ]
  },
  {
   "cell_type": "markdown",
   "metadata": {},
   "source": [
    ".\n"
   ]
  },
  {
   "cell_type": "markdown",
   "metadata": {},
   "source": [
    "‎ "
   ]
  },
  {
   "cell_type": "code",
   "execution_count": 34,
   "metadata": {},
   "outputs": [],
   "source": [
    "from sklearn.ensemble import RandomForestClassifier\n",
    "from sklearn.ensemble import GradientBoostingClassifier\n",
    "from sklearn.tree import DecisionTreeClassifier\n",
    "from sklearn.ensemble import AdaBoostClassifier\n",
    "from sklearn.linear_model import LogisticRegression\n",
    "# from xgboost import XGBClassifier\n",
    "from sklearn.metrics import accuracy_score, classification_report,ConfusionMatrixDisplay, \\\n",
    "                            precision_score, recall_score, f1_score, roc_auc_score,roc_curve "
   ]
  },
  {
   "cell_type": "code",
   "execution_count": 35,
   "metadata": {},
   "outputs": [],
   "source": [
    "# !pip install xgboost"
   ]
  },
  {
   "cell_type": "code",
   "execution_count": 36,
   "metadata": {},
   "outputs": [
    {
     "name": "stdout",
     "output_type": "stream",
     "text": [
      "Logisitic Regression\n",
      "Model performance for Training set\n",
      "- Accuracy: 0.5518\n",
      "- F1 score: 0.4128\n",
      "- Precision: 0.4931\n",
      "- Recall: 0.0266\n",
      "- Roc Auc Score: 0.5022\n",
      "----------------------------------\n",
      "Model performance for Test set\n",
      "- Accuracy: 0.5497\n",
      "- F1 score: 0.4079\n",
      "- Precision: 0.4433\n",
      "- Recall: 0.0213\n",
      "- Roc Auc Score: 0.4998\n",
      "===================================\n",
      "\n",
      "\n",
      "Decision Tree\n",
      "Model performance for Training set\n",
      "- Accuracy: 0.9994\n",
      "- F1 score: 0.9994\n",
      "- Precision: 1.0000\n",
      "- Recall: 0.9986\n",
      "- Roc Auc Score: 0.9993\n",
      "----------------------------------\n",
      "Model performance for Test set\n",
      "- Accuracy: 0.5223\n",
      "- F1 score: 0.5228\n",
      "- Precision: 0.4675\n",
      "- Recall: 0.4788\n",
      "- Roc Auc Score: 0.5182\n",
      "===================================\n",
      "\n",
      "\n",
      "Random Forest\n",
      "Model performance for Training set\n",
      "- Accuracy: 0.9994\n",
      "- F1 score: 0.9994\n",
      "- Precision: 0.9996\n",
      "- Recall: 0.9990\n",
      "- Roc Auc Score: 0.9993\n",
      "----------------------------------\n",
      "Model performance for Test set\n",
      "- Accuracy: 0.5370\n",
      "- F1 score: 0.5180\n",
      "- Precision: 0.4746\n",
      "- Recall: 0.3148\n",
      "- Roc Auc Score: 0.5160\n",
      "===================================\n",
      "\n",
      "\n",
      "Gradient Boost\n",
      "Model performance for Training set\n",
      "- Accuracy: 0.5933\n",
      "- F1 score: 0.5087\n",
      "- Precision: 0.7244\n",
      "- Recall: 0.1484\n",
      "- Roc Auc Score: 0.5513\n",
      "----------------------------------\n",
      "Model performance for Test set\n",
      "- Accuracy: 0.5490\n",
      "- F1 score: 0.4545\n",
      "- Precision: 0.4828\n",
      "- Recall: 0.0977\n",
      "- Roc Auc Score: 0.5064\n",
      "===================================\n",
      "\n",
      "\n",
      "Adaboost\n",
      "Model performance for Training set\n",
      "- Accuracy: 0.5621\n",
      "- F1 score: 0.5009\n",
      "- Precision: 0.5326\n",
      "- Recall: 0.1821\n",
      "- Roc Auc Score: 0.5263\n",
      "----------------------------------\n",
      "Model performance for Test set\n",
      "- Accuracy: 0.5436\n",
      "- F1 score: 0.4806\n",
      "- Precision: 0.4724\n",
      "- Recall: 0.1637\n",
      "- Roc Auc Score: 0.5077\n",
      "===================================\n",
      "\n",
      "\n"
     ]
    }
   ],
   "source": [
    "models={\n",
    "    \n",
    "    \"Logisitic Regression\":LogisticRegression(),\n",
    "    \"Decision Tree\":DecisionTreeClassifier(),\n",
    "    \"Random Forest\":RandomForestClassifier(),\n",
    "    \"Gradient Boost\":GradientBoostingClassifier(),\n",
    "    \"Adaboost\":AdaBoostClassifier()\n",
    "}\n",
    "for i in range(len(list(models))):\n",
    "    model = list(models.values())[i]\n",
    "    model.fit(X_train_scaled, y_train) # Train model\n",
    "\n",
    "    # Make predictions\n",
    "    y_train_pred = model.predict(X_train_scaled)\n",
    "    y_test_pred = model.predict(X_test_scaled)\n",
    "\n",
    "    # Training set performance\n",
    "    model_train_accuracy = accuracy_score(y_train, y_train_pred) # Calculate Accuracy\n",
    "    model_train_f1 = f1_score(y_train, y_train_pred, average='weighted') # Calculate F1-score\n",
    "    model_train_precision = precision_score(y_train, y_train_pred) # Calculate Precision\n",
    "    model_train_recall = recall_score(y_train, y_train_pred) # Calculate Recall\n",
    "    model_train_rocauc_score = roc_auc_score(y_train, y_train_pred)\n",
    "\n",
    "\n",
    "    # Test set performance\n",
    "    model_test_accuracy = accuracy_score(y_test, y_test_pred) # Calculate Accuracy\n",
    "    model_test_f1 = f1_score(y_test, y_test_pred, average='weighted') # Calculate F1-score\n",
    "    model_test_precision = precision_score(y_test, y_test_pred) # Calculate Precision\n",
    "    model_test_recall = recall_score(y_test, y_test_pred) # Calculate Recall\n",
    "    model_test_rocauc_score = roc_auc_score(y_test, y_test_pred) #Calculate Roc\n",
    "\n",
    "\n",
    "    print(list(models.keys())[i])\n",
    "    \n",
    "    print('Model performance for Training set')\n",
    "    print(\"- Accuracy: {:.4f}\".format(model_train_accuracy))\n",
    "    print('- F1 score: {:.4f}'.format(model_train_f1))\n",
    "    \n",
    "    print('- Precision: {:.4f}'.format(model_train_precision))\n",
    "    print('- Recall: {:.4f}'.format(model_train_recall))\n",
    "    print('- Roc Auc Score: {:.4f}'.format(model_train_rocauc_score))\n",
    "\n",
    "    \n",
    "    \n",
    "    print('----------------------------------')\n",
    "    \n",
    "    print('Model performance for Test set')\n",
    "    print('- Accuracy: {:.4f}'.format(model_test_accuracy))\n",
    "    print('- F1 score: {:.4f}'.format(model_test_f1))\n",
    "    print('- Precision: {:.4f}'.format(model_test_precision))\n",
    "    print('- Recall: {:.4f}'.format(model_test_recall))\n",
    "    print('- Roc Auc Score: {:.4f}'.format(model_test_rocauc_score))\n",
    "\n",
    "    \n",
    "    print('='*35)\n",
    "    print('\\n')"
   ]
  },
  {
   "cell_type": "code",
   "execution_count": 38,
   "metadata": {},
   "outputs": [],
   "source": [
    "## Hyperparameter Training\n",
    "rf_params = {\"max_depth\": [5, 8, 15, None, 10],\n",
    "             \"max_features\": [5, 7, \"auto\", 8],\n",
    "             \"min_samples_split\": [2, 8, 15, 20],\n",
    "             \"n_estimators\": [100, 200, 500, 1000]}\n",
    "\n",
    "adaboost_param={\n",
    "    \"n_estimators\":[50,60,70,80,90],\n",
    "    \"algorithm\":['SAMME','SAMME.R']\n",
    "}\n",
    "\n",
    "xgboost_params = {\"learning_rate\": [0.1, 0.01],\n",
    "                  \"max_depth\": [5, 8, 12, 20, 30],\n",
    "                  \"n_estimators\": [100, 200, 300],\n",
    "                  \"colsample_bytree\": [0.5, 0.8, 1, 0.3, 0.4]}\n",
    "\n",
    "gradient_params={\"loss\": ['log_loss','deviance','exponential'],\n",
    "             \"criterion\": ['friedman_mse','squared_error','mse'],\n",
    "             \"min_samples_split\": [2, 8, 15, 20],\n",
    "             \"n_estimators\": [100, 200, 500],\n",
    "              \"max_depth\": [5, 8, 15, None, 10]\n",
    "                }"
   ]
  },
  {
   "cell_type": "code",
   "execution_count": 39,
   "metadata": {},
   "outputs": [
    {
     "data": {
      "text/plain": [
       "{'loss': ['log_loss', 'deviance', 'exponential'],\n",
       " 'criterion': ['friedman_mse', 'squared_error', 'mse'],\n",
       " 'min_samples_split': [2, 8, 15, 20],\n",
       " 'n_estimators': [100, 200, 500],\n",
       " 'max_depth': [5, 8, 15, None, 10]}"
      ]
     },
     "execution_count": 39,
     "metadata": {},
     "output_type": "execute_result"
    }
   ],
   "source": [
    "gradient_params"
   ]
  },
  {
   "cell_type": "code",
   "execution_count": 40,
   "metadata": {},
   "outputs": [],
   "source": [
    "# Models list for Hyperparameter tuning\n",
    "randomcv_models = [\n",
    "                   (\"Gradient\", GradientBoostingClassifier(), gradient_params)\n",
    "                   \n",
    "                   ]"
   ]
  },
  {
   "cell_type": "code",
   "execution_count": 41,
   "metadata": {},
   "outputs": [
    {
     "data": {
      "text/plain": [
       "[('Gradient',\n",
       "  GradientBoostingClassifier(),\n",
       "  {'loss': ['log_loss', 'deviance', 'exponential'],\n",
       "   'criterion': ['friedman_mse', 'squared_error', 'mse'],\n",
       "   'min_samples_split': [2, 8, 15, 20],\n",
       "   'n_estimators': [100, 200, 500],\n",
       "   'max_depth': [5, 8, 15, None, 10]})]"
      ]
     },
     "execution_count": 41,
     "metadata": {},
     "output_type": "execute_result"
    }
   ],
   "source": [
    "randomcv_models"
   ]
  },
  {
   "cell_type": "code",
   "execution_count": null,
   "metadata": {},
   "outputs": [
    {
     "name": "stdout",
     "output_type": "stream",
     "text": [
      "Fitting 3 folds for each of 100 candidates, totalling 300 fits\n"
     ]
    }
   ],
   "source": [
    "from sklearn.model_selection import RandomizedSearchCV\n",
    "\n",
    "model_param = {}\n",
    "for name, model, params in randomcv_models:\n",
    "    random = RandomizedSearchCV(estimator=model,\n",
    "                                   param_distributions=params,\n",
    "                                   n_iter=100,\n",
    "                                   cv=3,\n",
    "                                   verbose=2,\n",
    "                                   n_jobs=-1)\n",
    "    random.fit(X_train_scaled, y_train)\n",
    "    model_param[name] = random.best_params_\n",
    "\n",
    "for model_name in model_param:\n",
    "    print(f\"---------------- Best Params for {model_name} -------------------\")\n",
    "    print(model_param[model_name])"
   ]
  },
  {
   "cell_type": "code",
   "execution_count": null,
   "metadata": {},
   "outputs": [],
   "source": [
    "models={\n",
    "    \n",
    "    \"Random Forest\":RandomForestClassifier(n_estimators=1000,min_samples_split=2,\n",
    "                                          max_features=7,max_depth=None)\n",
    "}\n",
    "for i in range(len(list(models))):\n",
    "    model = list(models.values())[i]\n",
    "    model.fit(X_train_scaled, y_train) # Train model\n",
    "\n",
    "    # Make predictions\n",
    "    y_train_pred = model.predict(X_train_scaled)\n",
    "    y_test_pred = model.predict(X_test_scaled)\n",
    "\n",
    "    # Training set performance\n",
    "    model_train_accuracy = accuracy_score(y_train, y_train_pred) # Calculate Accuracy\n",
    "    model_train_f1 = f1_score(y_train, y_train_pred, average='weighted') # Calculate F1-score\n",
    "    model_train_precision = precision_score(y_train, y_train_pred) # Calculate Precision\n",
    "    model_train_recall = recall_score(y_train, y_train_pred) # Calculate Recall\n",
    "    model_train_rocauc_score = roc_auc_score(y_train, y_train_pred)\n",
    "\n",
    "\n",
    "    # Test set performance\n",
    "    model_test_accuracy = accuracy_score(y_test, y_test_pred) # Calculate Accuracy\n",
    "    model_test_f1 = f1_score(y_test, y_test_pred, average='weighted') # Calculate F1-score\n",
    "    model_test_precision = precision_score(y_test, y_test_pred) # Calculate Precision\n",
    "    model_test_recall = recall_score(y_test, y_test_pred) # Calculate Recall\n",
    "    model_test_rocauc_score = roc_auc_score(y_test, y_test_pred) #Calculate Roc\n",
    "\n",
    "\n",
    "    print(list(models.keys())[i])\n",
    "    \n",
    "    print('Model performance for Training set')\n",
    "    print(\"- Accuracy: {:.4f}\".format(model_train_accuracy))\n",
    "    print('- F1 score: {:.4f}'.format(model_train_f1))\n",
    "    \n",
    "    print('- Precision: {:.4f}'.format(model_train_precision))\n",
    "    print('- Recall: {:.4f}'.format(model_train_recall))\n",
    "    print('- Roc Auc Score: {:.4f}'.format(model_train_rocauc_score))\n",
    "\n",
    "    \n",
    "    \n",
    "    print('----------------------------------')\n",
    "    \n",
    "    print('Model performance for Test set')\n",
    "    print('- Accuracy: {:.4f}'.format(model_test_accuracy))\n",
    "    print('- F1 score: {:.4f}'.format(model_test_f1))\n",
    "    print('- Precision: {:.4f}'.format(model_test_precision))\n",
    "    print('- Recall: {:.4f}'.format(model_test_recall))\n",
    "    print('- Roc Auc Score: {:.4f}'.format(model_test_rocauc_score))\n",
    "\n",
    "    \n",
    "    print('='*35)\n",
    "    print('\\n')"
   ]
  },
  {
   "cell_type": "code",
   "execution_count": null,
   "metadata": {},
   "outputs": [],
   "source": [
    "## Plot ROC AUC Curve\n",
    "from sklearn.metrics import roc_auc_score,roc_curve\n",
    "plt.figure()\n",
    "\n",
    "# Add the models to the list that you want to view on the ROC plot\n",
    "auc_models = [\n",
    "{\n",
    "    'label': 'Xgboost',\n",
    "    'model':XGBClassifier(n_estimators=200,max_depth=12,learning_rate=0.1,\n",
    "                           colsample_bytree=1),\n",
    "    'auc':  0.8882\n",
    "},\n",
    "    \n",
    "]\n",
    "# create loop through all model\n",
    "for algo in auc_models:\n",
    "    model = algo['model'] # select the model\n",
    "    model.fit(X_train_scaled, y_train) # train the model\n",
    "# Compute False postive rate, and True positive rate\n",
    "    fpr, tpr, thresholds = roc_curve(y_test, model.predict_proba(X_test)[:,1])\n",
    "# Calculate Area under the curve to display on the plot\n",
    "    plt.plot(fpr, tpr, label='%s ROC (area = %0.2f)' % (algo['label'], algo['auc']))\n",
    "# Custom settings for the plot \n",
    "plt.plot([0, 1], [0, 1],'r--')\n",
    "plt.xlim([0.0, 1.0])\n",
    "plt.ylim([0.0, 1.05])\n",
    "plt.xlabel('1-Specificity(False Positive Rate)')\n",
    "plt.ylabel('Sensitivity(True Positive Rate)')\n",
    "plt.title('Receiver Operating Characteristic')\n",
    "plt.legend(loc=\"lower right\")\n",
    "plt.savefig(\"auc.png\")\n",
    "plt.show() "
   ]
  },
  {
   "cell_type": "code",
   "execution_count": null,
   "metadata": {},
   "outputs": [],
   "source": []
  },
  {
   "cell_type": "markdown",
   "metadata": {},
   "source": [
    "**K nearest neighbour**"
   ]
  },
  {
   "cell_type": "code",
   "execution_count": 38,
   "metadata": {
    "execution": {
     "iopub.execute_input": "2024-08-11T03:30:00.879597Z",
     "iopub.status.busy": "2024-08-11T03:30:00.878951Z",
     "iopub.status.idle": "2024-08-11T03:30:00.945770Z",
     "shell.execute_reply": "2024-08-11T03:30:00.944758Z",
     "shell.execute_reply.started": "2024-08-11T03:30:00.879550Z"
    }
   },
   "outputs": [],
   "source": [
    "from sklearn.neighbors import KNeighborsClassifier"
   ]
  },
  {
   "cell_type": "code",
   "execution_count": 39,
   "metadata": {
    "execution": {
     "iopub.execute_input": "2024-08-11T03:30:00.948214Z",
     "iopub.status.busy": "2024-08-11T03:30:00.946998Z",
     "iopub.status.idle": "2024-08-11T03:30:01.040974Z",
     "shell.execute_reply": "2024-08-11T03:30:01.039968Z",
     "shell.execute_reply.started": "2024-08-11T03:30:00.948185Z"
    }
   },
   "outputs": [
    {
     "data": {
      "text/html": [
       "<style>#sk-container-id-3 {color: black;background-color: white;}#sk-container-id-3 pre{padding: 0;}#sk-container-id-3 div.sk-toggleable {background-color: white;}#sk-container-id-3 label.sk-toggleable__label {cursor: pointer;display: block;width: 100%;margin-bottom: 0;padding: 0.3em;box-sizing: border-box;text-align: center;}#sk-container-id-3 label.sk-toggleable__label-arrow:before {content: \"▸\";float: left;margin-right: 0.25em;color: #696969;}#sk-container-id-3 label.sk-toggleable__label-arrow:hover:before {color: black;}#sk-container-id-3 div.sk-estimator:hover label.sk-toggleable__label-arrow:before {color: black;}#sk-container-id-3 div.sk-toggleable__content {max-height: 0;max-width: 0;overflow: hidden;text-align: left;background-color: #f0f8ff;}#sk-container-id-3 div.sk-toggleable__content pre {margin: 0.2em;color: black;border-radius: 0.25em;background-color: #f0f8ff;}#sk-container-id-3 input.sk-toggleable__control:checked~div.sk-toggleable__content {max-height: 200px;max-width: 100%;overflow: auto;}#sk-container-id-3 input.sk-toggleable__control:checked~label.sk-toggleable__label-arrow:before {content: \"▾\";}#sk-container-id-3 div.sk-estimator input.sk-toggleable__control:checked~label.sk-toggleable__label {background-color: #d4ebff;}#sk-container-id-3 div.sk-label input.sk-toggleable__control:checked~label.sk-toggleable__label {background-color: #d4ebff;}#sk-container-id-3 input.sk-hidden--visually {border: 0;clip: rect(1px 1px 1px 1px);clip: rect(1px, 1px, 1px, 1px);height: 1px;margin: -1px;overflow: hidden;padding: 0;position: absolute;width: 1px;}#sk-container-id-3 div.sk-estimator {font-family: monospace;background-color: #f0f8ff;border: 1px dotted black;border-radius: 0.25em;box-sizing: border-box;margin-bottom: 0.5em;}#sk-container-id-3 div.sk-estimator:hover {background-color: #d4ebff;}#sk-container-id-3 div.sk-parallel-item::after {content: \"\";width: 100%;border-bottom: 1px solid gray;flex-grow: 1;}#sk-container-id-3 div.sk-label:hover label.sk-toggleable__label {background-color: #d4ebff;}#sk-container-id-3 div.sk-serial::before {content: \"\";position: absolute;border-left: 1px solid gray;box-sizing: border-box;top: 0;bottom: 0;left: 50%;z-index: 0;}#sk-container-id-3 div.sk-serial {display: flex;flex-direction: column;align-items: center;background-color: white;padding-right: 0.2em;padding-left: 0.2em;position: relative;}#sk-container-id-3 div.sk-item {position: relative;z-index: 1;}#sk-container-id-3 div.sk-parallel {display: flex;align-items: stretch;justify-content: center;background-color: white;position: relative;}#sk-container-id-3 div.sk-item::before, #sk-container-id-3 div.sk-parallel-item::before {content: \"\";position: absolute;border-left: 1px solid gray;box-sizing: border-box;top: 0;bottom: 0;left: 50%;z-index: -1;}#sk-container-id-3 div.sk-parallel-item {display: flex;flex-direction: column;z-index: 1;position: relative;background-color: white;}#sk-container-id-3 div.sk-parallel-item:first-child::after {align-self: flex-end;width: 50%;}#sk-container-id-3 div.sk-parallel-item:last-child::after {align-self: flex-start;width: 50%;}#sk-container-id-3 div.sk-parallel-item:only-child::after {width: 0;}#sk-container-id-3 div.sk-dashed-wrapped {border: 1px dashed gray;margin: 0 0.4em 0.5em 0.4em;box-sizing: border-box;padding-bottom: 0.4em;background-color: white;}#sk-container-id-3 div.sk-label label {font-family: monospace;font-weight: bold;display: inline-block;line-height: 1.2em;}#sk-container-id-3 div.sk-label-container {text-align: center;}#sk-container-id-3 div.sk-container {/* jupyter's `normalize.less` sets `[hidden] { display: none; }` but bootstrap.min.css set `[hidden] { display: none !important; }` so we also need the `!important` here to be able to override the default hidden behavior on the sphinx rendered scikit-learn.org. See: https://github.com/scikit-learn/scikit-learn/issues/21755 */display: inline-block !important;position: relative;}#sk-container-id-3 div.sk-text-repr-fallback {display: none;}</style><div id=\"sk-container-id-3\" class=\"sk-top-container\"><div class=\"sk-text-repr-fallback\"><pre>KNeighborsClassifier(algorithm=&#x27;ball_tree&#x27;, n_neighbors=30)</pre><b>In a Jupyter environment, please rerun this cell to show the HTML representation or trust the notebook. <br />On GitHub, the HTML representation is unable to render, please try loading this page with nbviewer.org.</b></div><div class=\"sk-container\" hidden><div class=\"sk-item\"><div class=\"sk-estimator sk-toggleable\"><input class=\"sk-toggleable__control sk-hidden--visually\" id=\"sk-estimator-id-5\" type=\"checkbox\" checked><label for=\"sk-estimator-id-5\" class=\"sk-toggleable__label sk-toggleable__label-arrow\">KNeighborsClassifier</label><div class=\"sk-toggleable__content\"><pre>KNeighborsClassifier(algorithm=&#x27;ball_tree&#x27;, n_neighbors=30)</pre></div></div></div></div></div>"
      ],
      "text/plain": [
       "KNeighborsClassifier(algorithm='ball_tree', n_neighbors=30)"
      ]
     },
     "execution_count": 39,
     "metadata": {},
     "output_type": "execute_result"
    }
   ],
   "source": [
    "classifier=KNeighborsClassifier(n_neighbors=30,algorithm='ball_tree')\n",
    "classifier.fit(X_train_scaled,y_train)"
   ]
  },
  {
   "cell_type": "code",
   "execution_count": 40,
   "metadata": {
    "execution": {
     "iopub.execute_input": "2024-08-11T03:30:01.042777Z",
     "iopub.status.busy": "2024-08-11T03:30:01.042387Z",
     "iopub.status.idle": "2024-08-11T03:30:27.219371Z",
     "shell.execute_reply": "2024-08-11T03:30:27.218408Z",
     "shell.execute_reply.started": "2024-08-11T03:30:01.042741Z"
    }
   },
   "outputs": [],
   "source": [
    "\n",
    "y_pred_knn=classifier.predict(X_test_scaled)"
   ]
  },
  {
   "cell_type": "code",
   "execution_count": 41,
   "metadata": {
    "execution": {
     "iopub.execute_input": "2024-08-11T03:30:27.221008Z",
     "iopub.status.busy": "2024-08-11T03:30:27.220681Z",
     "iopub.status.idle": "2024-08-11T03:30:27.272345Z",
     "shell.execute_reply": "2024-08-11T03:30:27.271352Z",
     "shell.execute_reply.started": "2024-08-11T03:30:27.220980Z"
    }
   },
   "outputs": [
    {
     "name": "stdout",
     "output_type": "stream",
     "text": [
      "KNN\n",
      "0.544\n",
      "              precision    recall  f1-score   support\n",
      "\n",
      "           0       0.77      0.56      0.65     13475\n",
      "           1       0.27      0.49      0.35      4525\n",
      "\n",
      "    accuracy                           0.54     18000\n",
      "   macro avg       0.52      0.52      0.50     18000\n",
      "weighted avg       0.64      0.54      0.57     18000\n",
      "\n",
      "[[7594 5881]\n",
      " [2327 2198]]\n"
     ]
    }
   ],
   "source": [
    "score=accuracy_score(y_pred_knn,y_test)\n",
    "print(\"KNN\")\n",
    "print(score)\n",
    "print(classification_report(y_pred_knn,y_test))\n",
    "print(confusion_matrix(y_pred_knn,y_test))"
   ]
  },
  {
   "cell_type": "markdown",
   "metadata": {},
   "source": [
    "**Naive bayes**"
   ]
  },
  {
   "cell_type": "code",
   "execution_count": 42,
   "metadata": {
    "execution": {
     "iopub.execute_input": "2024-08-11T03:30:27.276523Z",
     "iopub.status.busy": "2024-08-11T03:30:27.276189Z",
     "iopub.status.idle": "2024-08-11T03:30:27.300111Z",
     "shell.execute_reply": "2024-08-11T03:30:27.299069Z",
     "shell.execute_reply.started": "2024-08-11T03:30:27.276493Z"
    }
   },
   "outputs": [
    {
     "data": {
      "text/html": [
       "<style>#sk-container-id-4 {color: black;background-color: white;}#sk-container-id-4 pre{padding: 0;}#sk-container-id-4 div.sk-toggleable {background-color: white;}#sk-container-id-4 label.sk-toggleable__label {cursor: pointer;display: block;width: 100%;margin-bottom: 0;padding: 0.3em;box-sizing: border-box;text-align: center;}#sk-container-id-4 label.sk-toggleable__label-arrow:before {content: \"▸\";float: left;margin-right: 0.25em;color: #696969;}#sk-container-id-4 label.sk-toggleable__label-arrow:hover:before {color: black;}#sk-container-id-4 div.sk-estimator:hover label.sk-toggleable__label-arrow:before {color: black;}#sk-container-id-4 div.sk-toggleable__content {max-height: 0;max-width: 0;overflow: hidden;text-align: left;background-color: #f0f8ff;}#sk-container-id-4 div.sk-toggleable__content pre {margin: 0.2em;color: black;border-radius: 0.25em;background-color: #f0f8ff;}#sk-container-id-4 input.sk-toggleable__control:checked~div.sk-toggleable__content {max-height: 200px;max-width: 100%;overflow: auto;}#sk-container-id-4 input.sk-toggleable__control:checked~label.sk-toggleable__label-arrow:before {content: \"▾\";}#sk-container-id-4 div.sk-estimator input.sk-toggleable__control:checked~label.sk-toggleable__label {background-color: #d4ebff;}#sk-container-id-4 div.sk-label input.sk-toggleable__control:checked~label.sk-toggleable__label {background-color: #d4ebff;}#sk-container-id-4 input.sk-hidden--visually {border: 0;clip: rect(1px 1px 1px 1px);clip: rect(1px, 1px, 1px, 1px);height: 1px;margin: -1px;overflow: hidden;padding: 0;position: absolute;width: 1px;}#sk-container-id-4 div.sk-estimator {font-family: monospace;background-color: #f0f8ff;border: 1px dotted black;border-radius: 0.25em;box-sizing: border-box;margin-bottom: 0.5em;}#sk-container-id-4 div.sk-estimator:hover {background-color: #d4ebff;}#sk-container-id-4 div.sk-parallel-item::after {content: \"\";width: 100%;border-bottom: 1px solid gray;flex-grow: 1;}#sk-container-id-4 div.sk-label:hover label.sk-toggleable__label {background-color: #d4ebff;}#sk-container-id-4 div.sk-serial::before {content: \"\";position: absolute;border-left: 1px solid gray;box-sizing: border-box;top: 0;bottom: 0;left: 50%;z-index: 0;}#sk-container-id-4 div.sk-serial {display: flex;flex-direction: column;align-items: center;background-color: white;padding-right: 0.2em;padding-left: 0.2em;position: relative;}#sk-container-id-4 div.sk-item {position: relative;z-index: 1;}#sk-container-id-4 div.sk-parallel {display: flex;align-items: stretch;justify-content: center;background-color: white;position: relative;}#sk-container-id-4 div.sk-item::before, #sk-container-id-4 div.sk-parallel-item::before {content: \"\";position: absolute;border-left: 1px solid gray;box-sizing: border-box;top: 0;bottom: 0;left: 50%;z-index: -1;}#sk-container-id-4 div.sk-parallel-item {display: flex;flex-direction: column;z-index: 1;position: relative;background-color: white;}#sk-container-id-4 div.sk-parallel-item:first-child::after {align-self: flex-end;width: 50%;}#sk-container-id-4 div.sk-parallel-item:last-child::after {align-self: flex-start;width: 50%;}#sk-container-id-4 div.sk-parallel-item:only-child::after {width: 0;}#sk-container-id-4 div.sk-dashed-wrapped {border: 1px dashed gray;margin: 0 0.4em 0.5em 0.4em;box-sizing: border-box;padding-bottom: 0.4em;background-color: white;}#sk-container-id-4 div.sk-label label {font-family: monospace;font-weight: bold;display: inline-block;line-height: 1.2em;}#sk-container-id-4 div.sk-label-container {text-align: center;}#sk-container-id-4 div.sk-container {/* jupyter's `normalize.less` sets `[hidden] { display: none; }` but bootstrap.min.css set `[hidden] { display: none !important; }` so we also need the `!important` here to be able to override the default hidden behavior on the sphinx rendered scikit-learn.org. See: https://github.com/scikit-learn/scikit-learn/issues/21755 */display: inline-block !important;position: relative;}#sk-container-id-4 div.sk-text-repr-fallback {display: none;}</style><div id=\"sk-container-id-4\" class=\"sk-top-container\"><div class=\"sk-text-repr-fallback\"><pre>GaussianNB()</pre><b>In a Jupyter environment, please rerun this cell to show the HTML representation or trust the notebook. <br />On GitHub, the HTML representation is unable to render, please try loading this page with nbviewer.org.</b></div><div class=\"sk-container\" hidden><div class=\"sk-item\"><div class=\"sk-estimator sk-toggleable\"><input class=\"sk-toggleable__control sk-hidden--visually\" id=\"sk-estimator-id-6\" type=\"checkbox\" checked><label for=\"sk-estimator-id-6\" class=\"sk-toggleable__label sk-toggleable__label-arrow\">GaussianNB</label><div class=\"sk-toggleable__content\"><pre>GaussianNB()</pre></div></div></div></div></div>"
      ],
      "text/plain": [
       "GaussianNB()"
      ]
     },
     "execution_count": 42,
     "metadata": {},
     "output_type": "execute_result"
    }
   ],
   "source": [
    "from sklearn.naive_bayes import GaussianNB\n",
    "\n",
    "gnb=GaussianNB()\n",
    "gnb.fit(X_train_scaled,y_train)"
   ]
  },
  {
   "cell_type": "code",
   "execution_count": 43,
   "metadata": {
    "execution": {
     "iopub.execute_input": "2024-08-11T03:30:27.302145Z",
     "iopub.status.busy": "2024-08-11T03:30:27.301782Z",
     "iopub.status.idle": "2024-08-11T03:30:27.309838Z",
     "shell.execute_reply": "2024-08-11T03:30:27.308802Z",
     "shell.execute_reply.started": "2024-08-11T03:30:27.302117Z"
    }
   },
   "outputs": [],
   "source": [
    "y_pred_g=gnb.predict(X_test_scaled)"
   ]
  },
  {
   "cell_type": "code",
   "execution_count": 44,
   "metadata": {
    "execution": {
     "iopub.execute_input": "2024-08-11T03:30:27.311465Z",
     "iopub.status.busy": "2024-08-11T03:30:27.311156Z",
     "iopub.status.idle": "2024-08-11T03:30:27.362445Z",
     "shell.execute_reply": "2024-08-11T03:30:27.361458Z",
     "shell.execute_reply.started": "2024-08-11T03:30:27.311437Z"
    }
   },
   "outputs": [
    {
     "name": "stdout",
     "output_type": "stream",
     "text": [
      "Naive bayes\n",
      "0.4568888888888889\n",
      "              precision    recall  f1-score   support\n",
      "\n",
      "           0       0.09      0.55      0.15      1589\n",
      "           1       0.91      0.45      0.60     16411\n",
      "\n",
      "    accuracy                           0.46     18000\n",
      "   macro avg       0.50      0.50      0.38     18000\n",
      "weighted avg       0.84      0.46      0.56     18000\n",
      "\n",
      "[[ 867  722]\n",
      " [9054 7357]]\n"
     ]
    }
   ],
   "source": [
    "score=accuracy_score(y_pred_g,y_test)\n",
    "print(\"Naive bayes\")\n",
    "print(score)\n",
    "print(classification_report(y_pred_g,y_test))\n",
    "print(confusion_matrix(y_pred_g,y_test))"
   ]
  },
  {
   "cell_type": "markdown",
   "metadata": {},
   "source": [
    "SVC"
   ]
  },
  {
   "cell_type": "code",
   "execution_count": 45,
   "metadata": {
    "execution": {
     "iopub.execute_input": "2024-08-11T03:30:27.363816Z",
     "iopub.status.busy": "2024-08-11T03:30:27.363521Z",
     "iopub.status.idle": "2024-08-11T03:31:57.703037Z",
     "shell.execute_reply": "2024-08-11T03:31:57.701204Z",
     "shell.execute_reply.started": "2024-08-11T03:30:27.363790Z"
    }
   },
   "outputs": [
    {
     "data": {
      "text/html": [
       "<style>#sk-container-id-5 {color: black;background-color: white;}#sk-container-id-5 pre{padding: 0;}#sk-container-id-5 div.sk-toggleable {background-color: white;}#sk-container-id-5 label.sk-toggleable__label {cursor: pointer;display: block;width: 100%;margin-bottom: 0;padding: 0.3em;box-sizing: border-box;text-align: center;}#sk-container-id-5 label.sk-toggleable__label-arrow:before {content: \"▸\";float: left;margin-right: 0.25em;color: #696969;}#sk-container-id-5 label.sk-toggleable__label-arrow:hover:before {color: black;}#sk-container-id-5 div.sk-estimator:hover label.sk-toggleable__label-arrow:before {color: black;}#sk-container-id-5 div.sk-toggleable__content {max-height: 0;max-width: 0;overflow: hidden;text-align: left;background-color: #f0f8ff;}#sk-container-id-5 div.sk-toggleable__content pre {margin: 0.2em;color: black;border-radius: 0.25em;background-color: #f0f8ff;}#sk-container-id-5 input.sk-toggleable__control:checked~div.sk-toggleable__content {max-height: 200px;max-width: 100%;overflow: auto;}#sk-container-id-5 input.sk-toggleable__control:checked~label.sk-toggleable__label-arrow:before {content: \"▾\";}#sk-container-id-5 div.sk-estimator input.sk-toggleable__control:checked~label.sk-toggleable__label {background-color: #d4ebff;}#sk-container-id-5 div.sk-label input.sk-toggleable__control:checked~label.sk-toggleable__label {background-color: #d4ebff;}#sk-container-id-5 input.sk-hidden--visually {border: 0;clip: rect(1px 1px 1px 1px);clip: rect(1px, 1px, 1px, 1px);height: 1px;margin: -1px;overflow: hidden;padding: 0;position: absolute;width: 1px;}#sk-container-id-5 div.sk-estimator {font-family: monospace;background-color: #f0f8ff;border: 1px dotted black;border-radius: 0.25em;box-sizing: border-box;margin-bottom: 0.5em;}#sk-container-id-5 div.sk-estimator:hover {background-color: #d4ebff;}#sk-container-id-5 div.sk-parallel-item::after {content: \"\";width: 100%;border-bottom: 1px solid gray;flex-grow: 1;}#sk-container-id-5 div.sk-label:hover label.sk-toggleable__label {background-color: #d4ebff;}#sk-container-id-5 div.sk-serial::before {content: \"\";position: absolute;border-left: 1px solid gray;box-sizing: border-box;top: 0;bottom: 0;left: 50%;z-index: 0;}#sk-container-id-5 div.sk-serial {display: flex;flex-direction: column;align-items: center;background-color: white;padding-right: 0.2em;padding-left: 0.2em;position: relative;}#sk-container-id-5 div.sk-item {position: relative;z-index: 1;}#sk-container-id-5 div.sk-parallel {display: flex;align-items: stretch;justify-content: center;background-color: white;position: relative;}#sk-container-id-5 div.sk-item::before, #sk-container-id-5 div.sk-parallel-item::before {content: \"\";position: absolute;border-left: 1px solid gray;box-sizing: border-box;top: 0;bottom: 0;left: 50%;z-index: -1;}#sk-container-id-5 div.sk-parallel-item {display: flex;flex-direction: column;z-index: 1;position: relative;background-color: white;}#sk-container-id-5 div.sk-parallel-item:first-child::after {align-self: flex-end;width: 50%;}#sk-container-id-5 div.sk-parallel-item:last-child::after {align-self: flex-start;width: 50%;}#sk-container-id-5 div.sk-parallel-item:only-child::after {width: 0;}#sk-container-id-5 div.sk-dashed-wrapped {border: 1px dashed gray;margin: 0 0.4em 0.5em 0.4em;box-sizing: border-box;padding-bottom: 0.4em;background-color: white;}#sk-container-id-5 div.sk-label label {font-family: monospace;font-weight: bold;display: inline-block;line-height: 1.2em;}#sk-container-id-5 div.sk-label-container {text-align: center;}#sk-container-id-5 div.sk-container {/* jupyter's `normalize.less` sets `[hidden] { display: none; }` but bootstrap.min.css set `[hidden] { display: none !important; }` so we also need the `!important` here to be able to override the default hidden behavior on the sphinx rendered scikit-learn.org. See: https://github.com/scikit-learn/scikit-learn/issues/21755 */display: inline-block !important;position: relative;}#sk-container-id-5 div.sk-text-repr-fallback {display: none;}</style><div id=\"sk-container-id-5\" class=\"sk-top-container\"><div class=\"sk-text-repr-fallback\"><pre>SVC(kernel=&#x27;linear&#x27;)</pre><b>In a Jupyter environment, please rerun this cell to show the HTML representation or trust the notebook. <br />On GitHub, the HTML representation is unable to render, please try loading this page with nbviewer.org.</b></div><div class=\"sk-container\" hidden><div class=\"sk-item\"><div class=\"sk-estimator sk-toggleable\"><input class=\"sk-toggleable__control sk-hidden--visually\" id=\"sk-estimator-id-7\" type=\"checkbox\" checked><label for=\"sk-estimator-id-7\" class=\"sk-toggleable__label sk-toggleable__label-arrow\">SVC</label><div class=\"sk-toggleable__content\"><pre>SVC(kernel=&#x27;linear&#x27;)</pre></div></div></div></div></div>"
      ],
      "text/plain": [
       "SVC(kernel='linear')"
      ]
     },
     "execution_count": 45,
     "metadata": {},
     "output_type": "execute_result"
    }
   ],
   "source": [
    "from sklearn.svm import SVC\n",
    "\n",
    "svc=SVC(kernel='linear')\n",
    "svc.fit(X_train_scaled,y_train)"
   ]
  },
  {
   "cell_type": "code",
   "execution_count": 46,
   "metadata": {
    "execution": {
     "iopub.execute_input": "2024-08-11T03:31:57.704888Z",
     "iopub.status.busy": "2024-08-11T03:31:57.704467Z",
     "iopub.status.idle": "2024-08-11T03:32:13.740121Z",
     "shell.execute_reply": "2024-08-11T03:32:13.739182Z",
     "shell.execute_reply.started": "2024-08-11T03:31:57.704850Z"
    }
   },
   "outputs": [],
   "source": [
    "y_pred1=svc.predict(X_test_scaled)"
   ]
  },
  {
   "cell_type": "code",
   "execution_count": 47,
   "metadata": {
    "execution": {
     "iopub.execute_input": "2024-08-11T03:32:13.741817Z",
     "iopub.status.busy": "2024-08-11T03:32:13.741509Z",
     "iopub.status.idle": "2024-08-11T03:32:13.789384Z",
     "shell.execute_reply": "2024-08-11T03:32:13.788407Z",
     "shell.execute_reply.started": "2024-08-11T03:32:13.741791Z"
    }
   },
   "outputs": [
    {
     "name": "stdout",
     "output_type": "stream",
     "text": [
      "SVC\n",
      "0.5511666666666667\n",
      "              precision    recall  f1-score   support\n",
      "\n",
      "           0       1.00      0.55      0.71     18000\n",
      "           1       0.00      0.00      0.00         0\n",
      "\n",
      "    accuracy                           0.55     18000\n",
      "   macro avg       0.50      0.28      0.36     18000\n",
      "weighted avg       1.00      0.55      0.71     18000\n",
      "\n",
      "[[9921 8079]\n",
      " [   0    0]]\n"
     ]
    }
   ],
   "source": [
    "from sklearn.metrics import accuracy_score,classification_report,confusion_matrix\n",
    "score=accuracy_score(y_pred1,y_test)\n",
    "print(\"SVC\")\n",
    "print(score)\n",
    "print(classification_report(y_pred1,y_test))\n",
    "print(confusion_matrix(y_pred1,y_test))"
   ]
  },
  {
   "cell_type": "markdown",
   "metadata": {},
   "source": [
    "rbf krrnal"
   ]
  },
  {
   "cell_type": "code",
   "execution_count": 48,
   "metadata": {
    "execution": {
     "iopub.execute_input": "2024-08-11T03:32:13.791063Z",
     "iopub.status.busy": "2024-08-11T03:32:13.790646Z",
     "iopub.status.idle": "2024-08-11T03:33:52.384470Z",
     "shell.execute_reply": "2024-08-11T03:33:52.383427Z",
     "shell.execute_reply.started": "2024-08-11T03:32:13.791035Z"
    }
   },
   "outputs": [
    {
     "data": {
      "text/html": [
       "<style>#sk-container-id-6 {color: black;background-color: white;}#sk-container-id-6 pre{padding: 0;}#sk-container-id-6 div.sk-toggleable {background-color: white;}#sk-container-id-6 label.sk-toggleable__label {cursor: pointer;display: block;width: 100%;margin-bottom: 0;padding: 0.3em;box-sizing: border-box;text-align: center;}#sk-container-id-6 label.sk-toggleable__label-arrow:before {content: \"▸\";float: left;margin-right: 0.25em;color: #696969;}#sk-container-id-6 label.sk-toggleable__label-arrow:hover:before {color: black;}#sk-container-id-6 div.sk-estimator:hover label.sk-toggleable__label-arrow:before {color: black;}#sk-container-id-6 div.sk-toggleable__content {max-height: 0;max-width: 0;overflow: hidden;text-align: left;background-color: #f0f8ff;}#sk-container-id-6 div.sk-toggleable__content pre {margin: 0.2em;color: black;border-radius: 0.25em;background-color: #f0f8ff;}#sk-container-id-6 input.sk-toggleable__control:checked~div.sk-toggleable__content {max-height: 200px;max-width: 100%;overflow: auto;}#sk-container-id-6 input.sk-toggleable__control:checked~label.sk-toggleable__label-arrow:before {content: \"▾\";}#sk-container-id-6 div.sk-estimator input.sk-toggleable__control:checked~label.sk-toggleable__label {background-color: #d4ebff;}#sk-container-id-6 div.sk-label input.sk-toggleable__control:checked~label.sk-toggleable__label {background-color: #d4ebff;}#sk-container-id-6 input.sk-hidden--visually {border: 0;clip: rect(1px 1px 1px 1px);clip: rect(1px, 1px, 1px, 1px);height: 1px;margin: -1px;overflow: hidden;padding: 0;position: absolute;width: 1px;}#sk-container-id-6 div.sk-estimator {font-family: monospace;background-color: #f0f8ff;border: 1px dotted black;border-radius: 0.25em;box-sizing: border-box;margin-bottom: 0.5em;}#sk-container-id-6 div.sk-estimator:hover {background-color: #d4ebff;}#sk-container-id-6 div.sk-parallel-item::after {content: \"\";width: 100%;border-bottom: 1px solid gray;flex-grow: 1;}#sk-container-id-6 div.sk-label:hover label.sk-toggleable__label {background-color: #d4ebff;}#sk-container-id-6 div.sk-serial::before {content: \"\";position: absolute;border-left: 1px solid gray;box-sizing: border-box;top: 0;bottom: 0;left: 50%;z-index: 0;}#sk-container-id-6 div.sk-serial {display: flex;flex-direction: column;align-items: center;background-color: white;padding-right: 0.2em;padding-left: 0.2em;position: relative;}#sk-container-id-6 div.sk-item {position: relative;z-index: 1;}#sk-container-id-6 div.sk-parallel {display: flex;align-items: stretch;justify-content: center;background-color: white;position: relative;}#sk-container-id-6 div.sk-item::before, #sk-container-id-6 div.sk-parallel-item::before {content: \"\";position: absolute;border-left: 1px solid gray;box-sizing: border-box;top: 0;bottom: 0;left: 50%;z-index: -1;}#sk-container-id-6 div.sk-parallel-item {display: flex;flex-direction: column;z-index: 1;position: relative;background-color: white;}#sk-container-id-6 div.sk-parallel-item:first-child::after {align-self: flex-end;width: 50%;}#sk-container-id-6 div.sk-parallel-item:last-child::after {align-self: flex-start;width: 50%;}#sk-container-id-6 div.sk-parallel-item:only-child::after {width: 0;}#sk-container-id-6 div.sk-dashed-wrapped {border: 1px dashed gray;margin: 0 0.4em 0.5em 0.4em;box-sizing: border-box;padding-bottom: 0.4em;background-color: white;}#sk-container-id-6 div.sk-label label {font-family: monospace;font-weight: bold;display: inline-block;line-height: 1.2em;}#sk-container-id-6 div.sk-label-container {text-align: center;}#sk-container-id-6 div.sk-container {/* jupyter's `normalize.less` sets `[hidden] { display: none; }` but bootstrap.min.css set `[hidden] { display: none !important; }` so we also need the `!important` here to be able to override the default hidden behavior on the sphinx rendered scikit-learn.org. See: https://github.com/scikit-learn/scikit-learn/issues/21755 */display: inline-block !important;position: relative;}#sk-container-id-6 div.sk-text-repr-fallback {display: none;}</style><div id=\"sk-container-id-6\" class=\"sk-top-container\"><div class=\"sk-text-repr-fallback\"><pre>SVC()</pre><b>In a Jupyter environment, please rerun this cell to show the HTML representation or trust the notebook. <br />On GitHub, the HTML representation is unable to render, please try loading this page with nbviewer.org.</b></div><div class=\"sk-container\" hidden><div class=\"sk-item\"><div class=\"sk-estimator sk-toggleable\"><input class=\"sk-toggleable__control sk-hidden--visually\" id=\"sk-estimator-id-8\" type=\"checkbox\" checked><label for=\"sk-estimator-id-8\" class=\"sk-toggleable__label sk-toggleable__label-arrow\">SVC</label><div class=\"sk-toggleable__content\"><pre>SVC()</pre></div></div></div></div></div>"
      ],
      "text/plain": [
       "SVC()"
      ]
     },
     "execution_count": 48,
     "metadata": {},
     "output_type": "execute_result"
    }
   ],
   "source": [
    "rbf=SVC(kernel='rbf')\n",
    "rbf.fit(X_train_scaled,y_train)"
   ]
  },
  {
   "cell_type": "code",
   "execution_count": 49,
   "metadata": {
    "execution": {
     "iopub.execute_input": "2024-08-11T03:33:52.386097Z",
     "iopub.status.busy": "2024-08-11T03:33:52.385689Z",
     "iopub.status.idle": "2024-08-11T03:34:08.234466Z",
     "shell.execute_reply": "2024-08-11T03:34:08.233348Z",
     "shell.execute_reply.started": "2024-08-11T03:33:52.386062Z"
    }
   },
   "outputs": [],
   "source": [
    "y_pred2=svc.predict(X_test_scaled)\n"
   ]
  },
  {
   "cell_type": "code",
   "execution_count": 50,
   "metadata": {
    "execution": {
     "iopub.execute_input": "2024-08-11T03:34:08.236568Z",
     "iopub.status.busy": "2024-08-11T03:34:08.235849Z",
     "iopub.status.idle": "2024-08-11T03:34:08.281779Z",
     "shell.execute_reply": "2024-08-11T03:34:08.280778Z",
     "shell.execute_reply.started": "2024-08-11T03:34:08.236530Z"
    }
   },
   "outputs": [
    {
     "name": "stdout",
     "output_type": "stream",
     "text": [
      "              precision    recall  f1-score   support\n",
      "\n",
      "           0       1.00      0.55      0.71     18000\n",
      "           1       0.00      0.00      0.00         0\n",
      "\n",
      "    accuracy                           0.55     18000\n",
      "   macro avg       0.50      0.28      0.36     18000\n",
      "weighted avg       1.00      0.55      0.71     18000\n",
      "\n",
      "[[9921 8079]\n",
      " [   0    0]]\n"
     ]
    }
   ],
   "source": [
    "print(classification_report(y_pred2,y_test))\n",
    "print(confusion_matrix(y_pred2,y_test))"
   ]
  },
  {
   "cell_type": "markdown",
   "metadata": {},
   "source": [
    "Polynomial kernal"
   ]
  },
  {
   "cell_type": "code",
   "execution_count": 51,
   "metadata": {
    "execution": {
     "iopub.execute_input": "2024-08-11T03:34:08.283564Z",
     "iopub.status.busy": "2024-08-11T03:34:08.283158Z",
     "iopub.status.idle": "2024-08-11T03:36:26.263269Z",
     "shell.execute_reply": "2024-08-11T03:36:26.262210Z",
     "shell.execute_reply.started": "2024-08-11T03:34:08.283534Z"
    }
   },
   "outputs": [
    {
     "data": {
      "text/html": [
       "<style>#sk-container-id-7 {color: black;background-color: white;}#sk-container-id-7 pre{padding: 0;}#sk-container-id-7 div.sk-toggleable {background-color: white;}#sk-container-id-7 label.sk-toggleable__label {cursor: pointer;display: block;width: 100%;margin-bottom: 0;padding: 0.3em;box-sizing: border-box;text-align: center;}#sk-container-id-7 label.sk-toggleable__label-arrow:before {content: \"▸\";float: left;margin-right: 0.25em;color: #696969;}#sk-container-id-7 label.sk-toggleable__label-arrow:hover:before {color: black;}#sk-container-id-7 div.sk-estimator:hover label.sk-toggleable__label-arrow:before {color: black;}#sk-container-id-7 div.sk-toggleable__content {max-height: 0;max-width: 0;overflow: hidden;text-align: left;background-color: #f0f8ff;}#sk-container-id-7 div.sk-toggleable__content pre {margin: 0.2em;color: black;border-radius: 0.25em;background-color: #f0f8ff;}#sk-container-id-7 input.sk-toggleable__control:checked~div.sk-toggleable__content {max-height: 200px;max-width: 100%;overflow: auto;}#sk-container-id-7 input.sk-toggleable__control:checked~label.sk-toggleable__label-arrow:before {content: \"▾\";}#sk-container-id-7 div.sk-estimator input.sk-toggleable__control:checked~label.sk-toggleable__label {background-color: #d4ebff;}#sk-container-id-7 div.sk-label input.sk-toggleable__control:checked~label.sk-toggleable__label {background-color: #d4ebff;}#sk-container-id-7 input.sk-hidden--visually {border: 0;clip: rect(1px 1px 1px 1px);clip: rect(1px, 1px, 1px, 1px);height: 1px;margin: -1px;overflow: hidden;padding: 0;position: absolute;width: 1px;}#sk-container-id-7 div.sk-estimator {font-family: monospace;background-color: #f0f8ff;border: 1px dotted black;border-radius: 0.25em;box-sizing: border-box;margin-bottom: 0.5em;}#sk-container-id-7 div.sk-estimator:hover {background-color: #d4ebff;}#sk-container-id-7 div.sk-parallel-item::after {content: \"\";width: 100%;border-bottom: 1px solid gray;flex-grow: 1;}#sk-container-id-7 div.sk-label:hover label.sk-toggleable__label {background-color: #d4ebff;}#sk-container-id-7 div.sk-serial::before {content: \"\";position: absolute;border-left: 1px solid gray;box-sizing: border-box;top: 0;bottom: 0;left: 50%;z-index: 0;}#sk-container-id-7 div.sk-serial {display: flex;flex-direction: column;align-items: center;background-color: white;padding-right: 0.2em;padding-left: 0.2em;position: relative;}#sk-container-id-7 div.sk-item {position: relative;z-index: 1;}#sk-container-id-7 div.sk-parallel {display: flex;align-items: stretch;justify-content: center;background-color: white;position: relative;}#sk-container-id-7 div.sk-item::before, #sk-container-id-7 div.sk-parallel-item::before {content: \"\";position: absolute;border-left: 1px solid gray;box-sizing: border-box;top: 0;bottom: 0;left: 50%;z-index: -1;}#sk-container-id-7 div.sk-parallel-item {display: flex;flex-direction: column;z-index: 1;position: relative;background-color: white;}#sk-container-id-7 div.sk-parallel-item:first-child::after {align-self: flex-end;width: 50%;}#sk-container-id-7 div.sk-parallel-item:last-child::after {align-self: flex-start;width: 50%;}#sk-container-id-7 div.sk-parallel-item:only-child::after {width: 0;}#sk-container-id-7 div.sk-dashed-wrapped {border: 1px dashed gray;margin: 0 0.4em 0.5em 0.4em;box-sizing: border-box;padding-bottom: 0.4em;background-color: white;}#sk-container-id-7 div.sk-label label {font-family: monospace;font-weight: bold;display: inline-block;line-height: 1.2em;}#sk-container-id-7 div.sk-label-container {text-align: center;}#sk-container-id-7 div.sk-container {/* jupyter's `normalize.less` sets `[hidden] { display: none; }` but bootstrap.min.css set `[hidden] { display: none !important; }` so we also need the `!important` here to be able to override the default hidden behavior on the sphinx rendered scikit-learn.org. See: https://github.com/scikit-learn/scikit-learn/issues/21755 */display: inline-block !important;position: relative;}#sk-container-id-7 div.sk-text-repr-fallback {display: none;}</style><div id=\"sk-container-id-7\" class=\"sk-top-container\"><div class=\"sk-text-repr-fallback\"><pre>SVC(kernel=&#x27;poly&#x27;)</pre><b>In a Jupyter environment, please rerun this cell to show the HTML representation or trust the notebook. <br />On GitHub, the HTML representation is unable to render, please try loading this page with nbviewer.org.</b></div><div class=\"sk-container\" hidden><div class=\"sk-item\"><div class=\"sk-estimator sk-toggleable\"><input class=\"sk-toggleable__control sk-hidden--visually\" id=\"sk-estimator-id-9\" type=\"checkbox\" checked><label for=\"sk-estimator-id-9\" class=\"sk-toggleable__label sk-toggleable__label-arrow\">SVC</label><div class=\"sk-toggleable__content\"><pre>SVC(kernel=&#x27;poly&#x27;)</pre></div></div></div></div></div>"
      ],
      "text/plain": [
       "SVC(kernel='poly')"
      ]
     },
     "execution_count": 51,
     "metadata": {},
     "output_type": "execute_result"
    }
   ],
   "source": [
    "polynomial=SVC(kernel='poly')\n",
    "polynomial.fit(X_train_scaled,y_train)\n",
    "\n"
   ]
  },
  {
   "cell_type": "code",
   "execution_count": 52,
   "metadata": {
    "execution": {
     "iopub.execute_input": "2024-08-11T03:36:26.265036Z",
     "iopub.status.busy": "2024-08-11T03:36:26.264621Z",
     "iopub.status.idle": "2024-08-11T03:36:45.190479Z",
     "shell.execute_reply": "2024-08-11T03:36:45.189434Z",
     "shell.execute_reply.started": "2024-08-11T03:36:26.265005Z"
    }
   },
   "outputs": [],
   "source": [
    "## Prediction\n",
    "y_pred3=polynomial.predict(X_test_scaled)"
   ]
  },
  {
   "cell_type": "code",
   "execution_count": 53,
   "metadata": {
    "execution": {
     "iopub.execute_input": "2024-08-11T03:36:45.192097Z",
     "iopub.status.busy": "2024-08-11T03:36:45.191695Z",
     "iopub.status.idle": "2024-08-11T03:36:45.237715Z",
     "shell.execute_reply": "2024-08-11T03:36:45.236731Z",
     "shell.execute_reply.started": "2024-08-11T03:36:45.192063Z"
    }
   },
   "outputs": [
    {
     "name": "stdout",
     "output_type": "stream",
     "text": [
      "              precision    recall  f1-score   support\n",
      "\n",
      "           0       0.55      0.98      0.71      9921\n",
      "           1       0.43      0.02      0.03      8079\n",
      "\n",
      "    accuracy                           0.55     18000\n",
      "   macro avg       0.49      0.50      0.37     18000\n",
      "weighted avg       0.50      0.55      0.40     18000\n",
      "\n",
      "[[9725  196]\n",
      " [7932  147]]\n"
     ]
    }
   ],
   "source": [
    "print(classification_report(y_test,y_pred3))\n",
    "print(confusion_matrix(y_test,y_pred3))"
   ]
  },
  {
   "cell_type": "markdown",
   "metadata": {},
   "source": [
    "Sigmoid"
   ]
  },
  {
   "cell_type": "code",
   "execution_count": 54,
   "metadata": {
    "execution": {
     "iopub.execute_input": "2024-08-11T03:36:45.239249Z",
     "iopub.status.busy": "2024-08-11T03:36:45.238931Z",
     "iopub.status.idle": "2024-08-11T03:39:02.118085Z",
     "shell.execute_reply": "2024-08-11T03:39:02.117130Z",
     "shell.execute_reply.started": "2024-08-11T03:36:45.239224Z"
    }
   },
   "outputs": [
    {
     "data": {
      "text/html": [
       "<style>#sk-container-id-8 {color: black;background-color: white;}#sk-container-id-8 pre{padding: 0;}#sk-container-id-8 div.sk-toggleable {background-color: white;}#sk-container-id-8 label.sk-toggleable__label {cursor: pointer;display: block;width: 100%;margin-bottom: 0;padding: 0.3em;box-sizing: border-box;text-align: center;}#sk-container-id-8 label.sk-toggleable__label-arrow:before {content: \"▸\";float: left;margin-right: 0.25em;color: #696969;}#sk-container-id-8 label.sk-toggleable__label-arrow:hover:before {color: black;}#sk-container-id-8 div.sk-estimator:hover label.sk-toggleable__label-arrow:before {color: black;}#sk-container-id-8 div.sk-toggleable__content {max-height: 0;max-width: 0;overflow: hidden;text-align: left;background-color: #f0f8ff;}#sk-container-id-8 div.sk-toggleable__content pre {margin: 0.2em;color: black;border-radius: 0.25em;background-color: #f0f8ff;}#sk-container-id-8 input.sk-toggleable__control:checked~div.sk-toggleable__content {max-height: 200px;max-width: 100%;overflow: auto;}#sk-container-id-8 input.sk-toggleable__control:checked~label.sk-toggleable__label-arrow:before {content: \"▾\";}#sk-container-id-8 div.sk-estimator input.sk-toggleable__control:checked~label.sk-toggleable__label {background-color: #d4ebff;}#sk-container-id-8 div.sk-label input.sk-toggleable__control:checked~label.sk-toggleable__label {background-color: #d4ebff;}#sk-container-id-8 input.sk-hidden--visually {border: 0;clip: rect(1px 1px 1px 1px);clip: rect(1px, 1px, 1px, 1px);height: 1px;margin: -1px;overflow: hidden;padding: 0;position: absolute;width: 1px;}#sk-container-id-8 div.sk-estimator {font-family: monospace;background-color: #f0f8ff;border: 1px dotted black;border-radius: 0.25em;box-sizing: border-box;margin-bottom: 0.5em;}#sk-container-id-8 div.sk-estimator:hover {background-color: #d4ebff;}#sk-container-id-8 div.sk-parallel-item::after {content: \"\";width: 100%;border-bottom: 1px solid gray;flex-grow: 1;}#sk-container-id-8 div.sk-label:hover label.sk-toggleable__label {background-color: #d4ebff;}#sk-container-id-8 div.sk-serial::before {content: \"\";position: absolute;border-left: 1px solid gray;box-sizing: border-box;top: 0;bottom: 0;left: 50%;z-index: 0;}#sk-container-id-8 div.sk-serial {display: flex;flex-direction: column;align-items: center;background-color: white;padding-right: 0.2em;padding-left: 0.2em;position: relative;}#sk-container-id-8 div.sk-item {position: relative;z-index: 1;}#sk-container-id-8 div.sk-parallel {display: flex;align-items: stretch;justify-content: center;background-color: white;position: relative;}#sk-container-id-8 div.sk-item::before, #sk-container-id-8 div.sk-parallel-item::before {content: \"\";position: absolute;border-left: 1px solid gray;box-sizing: border-box;top: 0;bottom: 0;left: 50%;z-index: -1;}#sk-container-id-8 div.sk-parallel-item {display: flex;flex-direction: column;z-index: 1;position: relative;background-color: white;}#sk-container-id-8 div.sk-parallel-item:first-child::after {align-self: flex-end;width: 50%;}#sk-container-id-8 div.sk-parallel-item:last-child::after {align-self: flex-start;width: 50%;}#sk-container-id-8 div.sk-parallel-item:only-child::after {width: 0;}#sk-container-id-8 div.sk-dashed-wrapped {border: 1px dashed gray;margin: 0 0.4em 0.5em 0.4em;box-sizing: border-box;padding-bottom: 0.4em;background-color: white;}#sk-container-id-8 div.sk-label label {font-family: monospace;font-weight: bold;display: inline-block;line-height: 1.2em;}#sk-container-id-8 div.sk-label-container {text-align: center;}#sk-container-id-8 div.sk-container {/* jupyter's `normalize.less` sets `[hidden] { display: none; }` but bootstrap.min.css set `[hidden] { display: none !important; }` so we also need the `!important` here to be able to override the default hidden behavior on the sphinx rendered scikit-learn.org. See: https://github.com/scikit-learn/scikit-learn/issues/21755 */display: inline-block !important;position: relative;}#sk-container-id-8 div.sk-text-repr-fallback {display: none;}</style><div id=\"sk-container-id-8\" class=\"sk-top-container\"><div class=\"sk-text-repr-fallback\"><pre>SVC(kernel=&#x27;sigmoid&#x27;)</pre><b>In a Jupyter environment, please rerun this cell to show the HTML representation or trust the notebook. <br />On GitHub, the HTML representation is unable to render, please try loading this page with nbviewer.org.</b></div><div class=\"sk-container\" hidden><div class=\"sk-item\"><div class=\"sk-estimator sk-toggleable\"><input class=\"sk-toggleable__control sk-hidden--visually\" id=\"sk-estimator-id-10\" type=\"checkbox\" checked><label for=\"sk-estimator-id-10\" class=\"sk-toggleable__label sk-toggleable__label-arrow\">SVC</label><div class=\"sk-toggleable__content\"><pre>SVC(kernel=&#x27;sigmoid&#x27;)</pre></div></div></div></div></div>"
      ],
      "text/plain": [
       "SVC(kernel='sigmoid')"
      ]
     },
     "execution_count": 54,
     "metadata": {},
     "output_type": "execute_result"
    }
   ],
   "source": [
    "sigmoid=SVC(kernel='sigmoid')\n",
    "sigmoid.fit(X_train_scaled,y_train)\n"
   ]
  },
  {
   "cell_type": "code",
   "execution_count": 55,
   "metadata": {
    "execution": {
     "iopub.execute_input": "2024-08-11T03:39:02.119776Z",
     "iopub.status.busy": "2024-08-11T03:39:02.119453Z",
     "iopub.status.idle": "2024-08-11T03:39:24.692863Z",
     "shell.execute_reply": "2024-08-11T03:39:24.691881Z",
     "shell.execute_reply.started": "2024-08-11T03:39:02.119750Z"
    }
   },
   "outputs": [],
   "source": [
    "## Prediction\n",
    "y_pred3=sigmoid.predict(X_test_scaled)"
   ]
  },
  {
   "cell_type": "code",
   "execution_count": 56,
   "metadata": {
    "execution": {
     "iopub.execute_input": "2024-08-11T03:39:24.694442Z",
     "iopub.status.busy": "2024-08-11T03:39:24.694142Z",
     "iopub.status.idle": "2024-08-11T03:39:24.745722Z",
     "shell.execute_reply": "2024-08-11T03:39:24.744584Z",
     "shell.execute_reply.started": "2024-08-11T03:39:24.694416Z"
    }
   },
   "outputs": [
    {
     "name": "stdout",
     "output_type": "stream",
     "text": [
      "              precision    recall  f1-score   support\n",
      "\n",
      "           0       0.55      0.55      0.55      9921\n",
      "           1       0.45      0.45      0.45      8079\n",
      "\n",
      "    accuracy                           0.51     18000\n",
      "   macro avg       0.50      0.50      0.50     18000\n",
      "weighted avg       0.51      0.51      0.51     18000\n",
      "\n",
      "[[5493 4428]\n",
      " [4431 3648]]\n"
     ]
    }
   ],
   "source": [
    "print(classification_report(y_test,y_pred3))\n",
    "print(confusion_matrix(y_test,y_pred3))"
   ]
  },
  {
   "cell_type": "markdown",
   "metadata": {},
   "source": [
    "Hyperparameter tuning svm"
   ]
  },
  {
   "cell_type": "code",
   "execution_count": 57,
   "metadata": {
    "execution": {
     "iopub.execute_input": "2024-08-11T03:39:24.747463Z",
     "iopub.status.busy": "2024-08-11T03:39:24.747155Z",
     "iopub.status.idle": "2024-08-11T03:39:24.753893Z",
     "shell.execute_reply": "2024-08-11T03:39:24.753021Z",
     "shell.execute_reply.started": "2024-08-11T03:39:24.747436Z"
    }
   },
   "outputs": [],
   "source": [
    "from sklearn.model_selection import GridSearchCV\n",
    "\n",
    "# defining parameter range\n",
    "param_grid = {'C': [0.1, 1, 10, 100, 1000],\n",
    "              'gamma': [1, 0.1, 0.01, 0.001, 0.0001],\n",
    "              'kernel': ['rbf']}"
   ]
  },
  {
   "cell_type": "code",
   "execution_count": 58,
   "metadata": {
    "execution": {
     "iopub.execute_input": "2024-08-11T03:39:24.756264Z",
     "iopub.status.busy": "2024-08-11T03:39:24.755226Z",
     "iopub.status.idle": "2024-08-11T03:39:24.761594Z",
     "shell.execute_reply": "2024-08-11T03:39:24.760635Z",
     "shell.execute_reply.started": "2024-08-11T03:39:24.756227Z"
    }
   },
   "outputs": [],
   "source": [
    "grid=GridSearchCV(SVC(),param_grid=param_grid,refit=True,cv=2,verbose=3)"
   ]
  },
  {
   "cell_type": "code",
   "execution_count": 59,
   "metadata": {
    "execution": {
     "iopub.execute_input": "2024-08-11T03:39:24.763192Z",
     "iopub.status.busy": "2024-08-11T03:39:24.762844Z",
     "iopub.status.idle": "2024-08-11T03:39:24.771948Z",
     "shell.execute_reply": "2024-08-11T03:39:24.770947Z",
     "shell.execute_reply.started": "2024-08-11T03:39:24.763134Z"
    }
   },
   "outputs": [],
   "source": [
    "# randomcv=RandomizedSearchCV(SVC(),param_grid=param_grid,refit=True,cv=2,verbose=3)\n",
    "randomcv=RandomizedSearchCV(estimator=SVC(),param_distributions=param_grid,cv=2)"
   ]
  },
  {
   "cell_type": "code",
   "execution_count": 60,
   "metadata": {
    "execution": {
     "iopub.execute_input": "2024-08-11T03:39:24.777930Z",
     "iopub.status.busy": "2024-08-11T03:39:24.777271Z",
     "iopub.status.idle": "2024-08-11T04:09:41.867347Z",
     "shell.execute_reply": "2024-08-11T04:09:41.866318Z",
     "shell.execute_reply.started": "2024-08-11T03:39:24.777871Z"
    }
   },
   "outputs": [
    {
     "data": {
      "text/html": [
       "<style>#sk-container-id-9 {color: black;background-color: white;}#sk-container-id-9 pre{padding: 0;}#sk-container-id-9 div.sk-toggleable {background-color: white;}#sk-container-id-9 label.sk-toggleable__label {cursor: pointer;display: block;width: 100%;margin-bottom: 0;padding: 0.3em;box-sizing: border-box;text-align: center;}#sk-container-id-9 label.sk-toggleable__label-arrow:before {content: \"▸\";float: left;margin-right: 0.25em;color: #696969;}#sk-container-id-9 label.sk-toggleable__label-arrow:hover:before {color: black;}#sk-container-id-9 div.sk-estimator:hover label.sk-toggleable__label-arrow:before {color: black;}#sk-container-id-9 div.sk-toggleable__content {max-height: 0;max-width: 0;overflow: hidden;text-align: left;background-color: #f0f8ff;}#sk-container-id-9 div.sk-toggleable__content pre {margin: 0.2em;color: black;border-radius: 0.25em;background-color: #f0f8ff;}#sk-container-id-9 input.sk-toggleable__control:checked~div.sk-toggleable__content {max-height: 200px;max-width: 100%;overflow: auto;}#sk-container-id-9 input.sk-toggleable__control:checked~label.sk-toggleable__label-arrow:before {content: \"▾\";}#sk-container-id-9 div.sk-estimator input.sk-toggleable__control:checked~label.sk-toggleable__label {background-color: #d4ebff;}#sk-container-id-9 div.sk-label input.sk-toggleable__control:checked~label.sk-toggleable__label {background-color: #d4ebff;}#sk-container-id-9 input.sk-hidden--visually {border: 0;clip: rect(1px 1px 1px 1px);clip: rect(1px, 1px, 1px, 1px);height: 1px;margin: -1px;overflow: hidden;padding: 0;position: absolute;width: 1px;}#sk-container-id-9 div.sk-estimator {font-family: monospace;background-color: #f0f8ff;border: 1px dotted black;border-radius: 0.25em;box-sizing: border-box;margin-bottom: 0.5em;}#sk-container-id-9 div.sk-estimator:hover {background-color: #d4ebff;}#sk-container-id-9 div.sk-parallel-item::after {content: \"\";width: 100%;border-bottom: 1px solid gray;flex-grow: 1;}#sk-container-id-9 div.sk-label:hover label.sk-toggleable__label {background-color: #d4ebff;}#sk-container-id-9 div.sk-serial::before {content: \"\";position: absolute;border-left: 1px solid gray;box-sizing: border-box;top: 0;bottom: 0;left: 50%;z-index: 0;}#sk-container-id-9 div.sk-serial {display: flex;flex-direction: column;align-items: center;background-color: white;padding-right: 0.2em;padding-left: 0.2em;position: relative;}#sk-container-id-9 div.sk-item {position: relative;z-index: 1;}#sk-container-id-9 div.sk-parallel {display: flex;align-items: stretch;justify-content: center;background-color: white;position: relative;}#sk-container-id-9 div.sk-item::before, #sk-container-id-9 div.sk-parallel-item::before {content: \"\";position: absolute;border-left: 1px solid gray;box-sizing: border-box;top: 0;bottom: 0;left: 50%;z-index: -1;}#sk-container-id-9 div.sk-parallel-item {display: flex;flex-direction: column;z-index: 1;position: relative;background-color: white;}#sk-container-id-9 div.sk-parallel-item:first-child::after {align-self: flex-end;width: 50%;}#sk-container-id-9 div.sk-parallel-item:last-child::after {align-self: flex-start;width: 50%;}#sk-container-id-9 div.sk-parallel-item:only-child::after {width: 0;}#sk-container-id-9 div.sk-dashed-wrapped {border: 1px dashed gray;margin: 0 0.4em 0.5em 0.4em;box-sizing: border-box;padding-bottom: 0.4em;background-color: white;}#sk-container-id-9 div.sk-label label {font-family: monospace;font-weight: bold;display: inline-block;line-height: 1.2em;}#sk-container-id-9 div.sk-label-container {text-align: center;}#sk-container-id-9 div.sk-container {/* jupyter's `normalize.less` sets `[hidden] { display: none; }` but bootstrap.min.css set `[hidden] { display: none !important; }` so we also need the `!important` here to be able to override the default hidden behavior on the sphinx rendered scikit-learn.org. See: https://github.com/scikit-learn/scikit-learn/issues/21755 */display: inline-block !important;position: relative;}#sk-container-id-9 div.sk-text-repr-fallback {display: none;}</style><div id=\"sk-container-id-9\" class=\"sk-top-container\"><div class=\"sk-text-repr-fallback\"><pre>RandomizedSearchCV(cv=2, estimator=SVC(),\n",
       "                   param_distributions={&#x27;C&#x27;: [0.1, 1, 10, 100, 1000],\n",
       "                                        &#x27;gamma&#x27;: [1, 0.1, 0.01, 0.001, 0.0001],\n",
       "                                        &#x27;kernel&#x27;: [&#x27;rbf&#x27;]})</pre><b>In a Jupyter environment, please rerun this cell to show the HTML representation or trust the notebook. <br />On GitHub, the HTML representation is unable to render, please try loading this page with nbviewer.org.</b></div><div class=\"sk-container\" hidden><div class=\"sk-item sk-dashed-wrapped\"><div class=\"sk-label-container\"><div class=\"sk-label sk-toggleable\"><input class=\"sk-toggleable__control sk-hidden--visually\" id=\"sk-estimator-id-11\" type=\"checkbox\" ><label for=\"sk-estimator-id-11\" class=\"sk-toggleable__label sk-toggleable__label-arrow\">RandomizedSearchCV</label><div class=\"sk-toggleable__content\"><pre>RandomizedSearchCV(cv=2, estimator=SVC(),\n",
       "                   param_distributions={&#x27;C&#x27;: [0.1, 1, 10, 100, 1000],\n",
       "                                        &#x27;gamma&#x27;: [1, 0.1, 0.01, 0.001, 0.0001],\n",
       "                                        &#x27;kernel&#x27;: [&#x27;rbf&#x27;]})</pre></div></div></div><div class=\"sk-parallel\"><div class=\"sk-parallel-item\"><div class=\"sk-item\"><div class=\"sk-label-container\"><div class=\"sk-label sk-toggleable\"><input class=\"sk-toggleable__control sk-hidden--visually\" id=\"sk-estimator-id-12\" type=\"checkbox\" ><label for=\"sk-estimator-id-12\" class=\"sk-toggleable__label sk-toggleable__label-arrow\">estimator: SVC</label><div class=\"sk-toggleable__content\"><pre>SVC()</pre></div></div></div><div class=\"sk-serial\"><div class=\"sk-item\"><div class=\"sk-estimator sk-toggleable\"><input class=\"sk-toggleable__control sk-hidden--visually\" id=\"sk-estimator-id-13\" type=\"checkbox\" ><label for=\"sk-estimator-id-13\" class=\"sk-toggleable__label sk-toggleable__label-arrow\">SVC</label><div class=\"sk-toggleable__content\"><pre>SVC()</pre></div></div></div></div></div></div></div></div></div></div>"
      ],
      "text/plain": [
       "RandomizedSearchCV(cv=2, estimator=SVC(),\n",
       "                   param_distributions={'C': [0.1, 1, 10, 100, 1000],\n",
       "                                        'gamma': [1, 0.1, 0.01, 0.001, 0.0001],\n",
       "                                        'kernel': ['rbf']})"
      ]
     },
     "execution_count": 60,
     "metadata": {},
     "output_type": "execute_result"
    }
   ],
   "source": [
    "randomcv.fit(X_train_scaled,y_train)"
   ]
  },
  {
   "cell_type": "code",
   "execution_count": 61,
   "metadata": {
    "execution": {
     "iopub.execute_input": "2024-08-11T04:09:41.868786Z",
     "iopub.status.busy": "2024-08-11T04:09:41.868445Z",
     "iopub.status.idle": "2024-08-11T04:10:20.152508Z",
     "shell.execute_reply": "2024-08-11T04:10:20.151440Z",
     "shell.execute_reply.started": "2024-08-11T04:09:41.868757Z"
    }
   },
   "outputs": [
    {
     "name": "stdout",
     "output_type": "stream",
     "text": [
      "              precision    recall  f1-score   support\n",
      "\n",
      "           0       0.55      1.00      0.71      9921\n",
      "           1       0.00      0.00      0.00      8079\n",
      "\n",
      "    accuracy                           0.55     18000\n",
      "   macro avg       0.28      0.50      0.36     18000\n",
      "weighted avg       0.30      0.55      0.39     18000\n",
      "\n",
      "[[9921    0]\n",
      " [8079    0]]\n"
     ]
    }
   ],
   "source": [
    "## Prediction\n",
    "y_pred4=randomcv.predict(X_test_scaled)\n",
    "print(classification_report(y_test,y_pred4))\n",
    "print(confusion_matrix(y_test,y_pred4))"
   ]
  },
  {
   "cell_type": "code",
   "execution_count": 62,
   "metadata": {
    "execution": {
     "iopub.execute_input": "2024-08-11T04:10:20.154038Z",
     "iopub.status.busy": "2024-08-11T04:10:20.153698Z",
     "iopub.status.idle": "2024-08-11T05:44:39.903269Z",
     "shell.execute_reply": "2024-08-11T05:44:39.902258Z",
     "shell.execute_reply.started": "2024-08-11T04:10:20.154009Z"
    }
   },
   "outputs": [
    {
     "name": "stdout",
     "output_type": "stream",
     "text": [
      "Fitting 2 folds for each of 25 candidates, totalling 50 fits\n",
      "[CV 1/2] END ........C=0.1, gamma=1, kernel=rbf;, score=0.551 total time=  54.3s\n",
      "[CV 2/2] END ........C=0.1, gamma=1, kernel=rbf;, score=0.547 total time=  54.6s\n",
      "[CV 1/2] END ......C=0.1, gamma=0.1, kernel=rbf;, score=0.551 total time=  43.4s\n",
      "[CV 2/2] END ......C=0.1, gamma=0.1, kernel=rbf;, score=0.551 total time=  43.6s\n",
      "[CV 1/2] END .....C=0.1, gamma=0.01, kernel=rbf;, score=0.551 total time=  42.3s\n",
      "[CV 2/2] END .....C=0.1, gamma=0.01, kernel=rbf;, score=0.551 total time=  42.6s\n",
      "[CV 1/2] END ....C=0.1, gamma=0.001, kernel=rbf;, score=0.551 total time=  39.8s\n",
      "[CV 2/2] END ....C=0.1, gamma=0.001, kernel=rbf;, score=0.551 total time=  40.3s\n",
      "[CV 1/2] END ...C=0.1, gamma=0.0001, kernel=rbf;, score=0.551 total time=  39.4s\n",
      "[CV 2/2] END ...C=0.1, gamma=0.0001, kernel=rbf;, score=0.551 total time=  39.4s\n",
      "[CV 1/2] END ..........C=1, gamma=1, kernel=rbf;, score=0.539 total time= 1.2min\n",
      "[CV 2/2] END ..........C=1, gamma=1, kernel=rbf;, score=0.534 total time= 1.1min\n",
      "[CV 1/2] END ........C=1, gamma=0.1, kernel=rbf;, score=0.545 total time=  43.9s\n",
      "[CV 2/2] END ........C=1, gamma=0.1, kernel=rbf;, score=0.549 total time=  44.0s\n",
      "[CV 1/2] END .......C=1, gamma=0.01, kernel=rbf;, score=0.551 total time=  44.7s\n",
      "[CV 2/2] END .......C=1, gamma=0.01, kernel=rbf;, score=0.551 total time=  44.4s\n",
      "[CV 1/2] END ......C=1, gamma=0.001, kernel=rbf;, score=0.551 total time=  42.0s\n",
      "[CV 2/2] END ......C=1, gamma=0.001, kernel=rbf;, score=0.551 total time=  42.1s\n",
      "[CV 1/2] END .....C=1, gamma=0.0001, kernel=rbf;, score=0.551 total time=  40.0s\n",
      "[CV 2/2] END .....C=1, gamma=0.0001, kernel=rbf;, score=0.551 total time=  39.9s\n",
      "[CV 1/2] END .........C=10, gamma=1, kernel=rbf;, score=0.525 total time= 2.1min\n",
      "[CV 2/2] END .........C=10, gamma=1, kernel=rbf;, score=0.525 total time= 2.0min\n",
      "[CV 1/2] END .......C=10, gamma=0.1, kernel=rbf;, score=0.534 total time= 1.1min\n",
      "[CV 2/2] END .......C=10, gamma=0.1, kernel=rbf;, score=0.532 total time= 1.1min\n",
      "[CV 1/2] END ......C=10, gamma=0.01, kernel=rbf;, score=0.550 total time=  46.8s\n",
      "[CV 2/2] END ......C=10, gamma=0.01, kernel=rbf;, score=0.550 total time=  46.9s\n",
      "[CV 1/2] END .....C=10, gamma=0.001, kernel=rbf;, score=0.551 total time=  48.6s\n",
      "[CV 2/2] END .....C=10, gamma=0.001, kernel=rbf;, score=0.551 total time=  48.3s\n",
      "[CV 1/2] END ....C=10, gamma=0.0001, kernel=rbf;, score=0.551 total time=  41.9s\n",
      "[CV 2/2] END ....C=10, gamma=0.0001, kernel=rbf;, score=0.551 total time=  42.6s\n",
      "[CV 1/2] END ........C=100, gamma=1, kernel=rbf;, score=0.521 total time= 3.3min\n",
      "[CV 2/2] END ........C=100, gamma=1, kernel=rbf;, score=0.523 total time= 3.3min\n",
      "[CV 1/2] END ......C=100, gamma=0.1, kernel=rbf;, score=0.527 total time= 2.8min\n",
      "[CV 2/2] END ......C=100, gamma=0.1, kernel=rbf;, score=0.525 total time= 2.7min\n",
      "[CV 1/2] END .....C=100, gamma=0.01, kernel=rbf;, score=0.547 total time= 1.1min\n",
      "[CV 2/2] END .....C=100, gamma=0.01, kernel=rbf;, score=0.547 total time= 1.1min\n",
      "[CV 1/2] END ....C=100, gamma=0.001, kernel=rbf;, score=0.551 total time= 1.1min\n",
      "[CV 2/2] END ....C=100, gamma=0.001, kernel=rbf;, score=0.551 total time= 1.1min\n",
      "[CV 1/2] END ...C=100, gamma=0.0001, kernel=rbf;, score=0.551 total time=  51.9s\n",
      "[CV 2/2] END ...C=100, gamma=0.0001, kernel=rbf;, score=0.551 total time=  52.3s\n",
      "[CV 1/2] END .......C=1000, gamma=1, kernel=rbf;, score=0.520 total time= 4.8min\n",
      "[CV 2/2] END .......C=1000, gamma=1, kernel=rbf;, score=0.520 total time= 4.6min\n",
      "[CV 1/2] END .....C=1000, gamma=0.1, kernel=rbf;, score=0.519 total time=12.5min\n",
      "[CV 2/2] END .....C=1000, gamma=0.1, kernel=rbf;, score=0.517 total time=13.4min\n",
      "[CV 1/2] END ....C=1000, gamma=0.01, kernel=rbf;, score=0.542 total time= 3.9min\n",
      "[CV 2/2] END ....C=1000, gamma=0.01, kernel=rbf;, score=0.551 total time= 3.8min\n",
      "[CV 1/2] END ...C=1000, gamma=0.001, kernel=rbf;, score=0.551 total time= 1.9min\n",
      "[CV 2/2] END ...C=1000, gamma=0.001, kernel=rbf;, score=0.551 total time= 1.7min\n",
      "[CV 1/2] END ..C=1000, gamma=0.0001, kernel=rbf;, score=0.551 total time= 1.1min\n",
      "[CV 2/2] END ..C=1000, gamma=0.0001, kernel=rbf;, score=0.551 total time= 1.1min\n"
     ]
    },
    {
     "data": {
      "text/html": [
       "<style>#sk-container-id-10 {color: black;background-color: white;}#sk-container-id-10 pre{padding: 0;}#sk-container-id-10 div.sk-toggleable {background-color: white;}#sk-container-id-10 label.sk-toggleable__label {cursor: pointer;display: block;width: 100%;margin-bottom: 0;padding: 0.3em;box-sizing: border-box;text-align: center;}#sk-container-id-10 label.sk-toggleable__label-arrow:before {content: \"▸\";float: left;margin-right: 0.25em;color: #696969;}#sk-container-id-10 label.sk-toggleable__label-arrow:hover:before {color: black;}#sk-container-id-10 div.sk-estimator:hover label.sk-toggleable__label-arrow:before {color: black;}#sk-container-id-10 div.sk-toggleable__content {max-height: 0;max-width: 0;overflow: hidden;text-align: left;background-color: #f0f8ff;}#sk-container-id-10 div.sk-toggleable__content pre {margin: 0.2em;color: black;border-radius: 0.25em;background-color: #f0f8ff;}#sk-container-id-10 input.sk-toggleable__control:checked~div.sk-toggleable__content {max-height: 200px;max-width: 100%;overflow: auto;}#sk-container-id-10 input.sk-toggleable__control:checked~label.sk-toggleable__label-arrow:before {content: \"▾\";}#sk-container-id-10 div.sk-estimator input.sk-toggleable__control:checked~label.sk-toggleable__label {background-color: #d4ebff;}#sk-container-id-10 div.sk-label input.sk-toggleable__control:checked~label.sk-toggleable__label {background-color: #d4ebff;}#sk-container-id-10 input.sk-hidden--visually {border: 0;clip: rect(1px 1px 1px 1px);clip: rect(1px, 1px, 1px, 1px);height: 1px;margin: -1px;overflow: hidden;padding: 0;position: absolute;width: 1px;}#sk-container-id-10 div.sk-estimator {font-family: monospace;background-color: #f0f8ff;border: 1px dotted black;border-radius: 0.25em;box-sizing: border-box;margin-bottom: 0.5em;}#sk-container-id-10 div.sk-estimator:hover {background-color: #d4ebff;}#sk-container-id-10 div.sk-parallel-item::after {content: \"\";width: 100%;border-bottom: 1px solid gray;flex-grow: 1;}#sk-container-id-10 div.sk-label:hover label.sk-toggleable__label {background-color: #d4ebff;}#sk-container-id-10 div.sk-serial::before {content: \"\";position: absolute;border-left: 1px solid gray;box-sizing: border-box;top: 0;bottom: 0;left: 50%;z-index: 0;}#sk-container-id-10 div.sk-serial {display: flex;flex-direction: column;align-items: center;background-color: white;padding-right: 0.2em;padding-left: 0.2em;position: relative;}#sk-container-id-10 div.sk-item {position: relative;z-index: 1;}#sk-container-id-10 div.sk-parallel {display: flex;align-items: stretch;justify-content: center;background-color: white;position: relative;}#sk-container-id-10 div.sk-item::before, #sk-container-id-10 div.sk-parallel-item::before {content: \"\";position: absolute;border-left: 1px solid gray;box-sizing: border-box;top: 0;bottom: 0;left: 50%;z-index: -1;}#sk-container-id-10 div.sk-parallel-item {display: flex;flex-direction: column;z-index: 1;position: relative;background-color: white;}#sk-container-id-10 div.sk-parallel-item:first-child::after {align-self: flex-end;width: 50%;}#sk-container-id-10 div.sk-parallel-item:last-child::after {align-self: flex-start;width: 50%;}#sk-container-id-10 div.sk-parallel-item:only-child::after {width: 0;}#sk-container-id-10 div.sk-dashed-wrapped {border: 1px dashed gray;margin: 0 0.4em 0.5em 0.4em;box-sizing: border-box;padding-bottom: 0.4em;background-color: white;}#sk-container-id-10 div.sk-label label {font-family: monospace;font-weight: bold;display: inline-block;line-height: 1.2em;}#sk-container-id-10 div.sk-label-container {text-align: center;}#sk-container-id-10 div.sk-container {/* jupyter's `normalize.less` sets `[hidden] { display: none; }` but bootstrap.min.css set `[hidden] { display: none !important; }` so we also need the `!important` here to be able to override the default hidden behavior on the sphinx rendered scikit-learn.org. See: https://github.com/scikit-learn/scikit-learn/issues/21755 */display: inline-block !important;position: relative;}#sk-container-id-10 div.sk-text-repr-fallback {display: none;}</style><div id=\"sk-container-id-10\" class=\"sk-top-container\"><div class=\"sk-text-repr-fallback\"><pre>GridSearchCV(cv=2, estimator=SVC(),\n",
       "             param_grid={&#x27;C&#x27;: [0.1, 1, 10, 100, 1000],\n",
       "                         &#x27;gamma&#x27;: [1, 0.1, 0.01, 0.001, 0.0001],\n",
       "                         &#x27;kernel&#x27;: [&#x27;rbf&#x27;]},\n",
       "             verbose=3)</pre><b>In a Jupyter environment, please rerun this cell to show the HTML representation or trust the notebook. <br />On GitHub, the HTML representation is unable to render, please try loading this page with nbviewer.org.</b></div><div class=\"sk-container\" hidden><div class=\"sk-item sk-dashed-wrapped\"><div class=\"sk-label-container\"><div class=\"sk-label sk-toggleable\"><input class=\"sk-toggleable__control sk-hidden--visually\" id=\"sk-estimator-id-14\" type=\"checkbox\" ><label for=\"sk-estimator-id-14\" class=\"sk-toggleable__label sk-toggleable__label-arrow\">GridSearchCV</label><div class=\"sk-toggleable__content\"><pre>GridSearchCV(cv=2, estimator=SVC(),\n",
       "             param_grid={&#x27;C&#x27;: [0.1, 1, 10, 100, 1000],\n",
       "                         &#x27;gamma&#x27;: [1, 0.1, 0.01, 0.001, 0.0001],\n",
       "                         &#x27;kernel&#x27;: [&#x27;rbf&#x27;]},\n",
       "             verbose=3)</pre></div></div></div><div class=\"sk-parallel\"><div class=\"sk-parallel-item\"><div class=\"sk-item\"><div class=\"sk-label-container\"><div class=\"sk-label sk-toggleable\"><input class=\"sk-toggleable__control sk-hidden--visually\" id=\"sk-estimator-id-15\" type=\"checkbox\" ><label for=\"sk-estimator-id-15\" class=\"sk-toggleable__label sk-toggleable__label-arrow\">estimator: SVC</label><div class=\"sk-toggleable__content\"><pre>SVC()</pre></div></div></div><div class=\"sk-serial\"><div class=\"sk-item\"><div class=\"sk-estimator sk-toggleable\"><input class=\"sk-toggleable__control sk-hidden--visually\" id=\"sk-estimator-id-16\" type=\"checkbox\" ><label for=\"sk-estimator-id-16\" class=\"sk-toggleable__label sk-toggleable__label-arrow\">SVC</label><div class=\"sk-toggleable__content\"><pre>SVC()</pre></div></div></div></div></div></div></div></div></div></div>"
      ],
      "text/plain": [
       "GridSearchCV(cv=2, estimator=SVC(),\n",
       "             param_grid={'C': [0.1, 1, 10, 100, 1000],\n",
       "                         'gamma': [1, 0.1, 0.01, 0.001, 0.0001],\n",
       "                         'kernel': ['rbf']},\n",
       "             verbose=3)"
      ]
     },
     "execution_count": 62,
     "metadata": {},
     "output_type": "execute_result"
    }
   ],
   "source": [
    "grid.fit(X_train_scaled,y_train)"
   ]
  },
  {
   "cell_type": "code",
   "execution_count": 63,
   "metadata": {
    "execution": {
     "iopub.execute_input": "2024-08-11T05:44:39.904962Z",
     "iopub.status.busy": "2024-08-11T05:44:39.904633Z",
     "iopub.status.idle": "2024-08-11T05:44:39.911494Z",
     "shell.execute_reply": "2024-08-11T05:44:39.910544Z",
     "shell.execute_reply.started": "2024-08-11T05:44:39.904921Z"
    }
   },
   "outputs": [
    {
     "data": {
      "text/plain": [
       "{'C': 0.1, 'gamma': 0.01, 'kernel': 'rbf'}"
      ]
     },
     "execution_count": 63,
     "metadata": {},
     "output_type": "execute_result"
    }
   ],
   "source": [
    "grid.best_params_"
   ]
  },
  {
   "cell_type": "code",
   "execution_count": 64,
   "metadata": {
    "execution": {
     "iopub.execute_input": "2024-08-11T05:44:39.913691Z",
     "iopub.status.busy": "2024-08-11T05:44:39.913300Z",
     "iopub.status.idle": "2024-08-11T05:45:18.337397Z",
     "shell.execute_reply": "2024-08-11T05:45:18.336228Z",
     "shell.execute_reply.started": "2024-08-11T05:44:39.913656Z"
    }
   },
   "outputs": [
    {
     "name": "stdout",
     "output_type": "stream",
     "text": [
      "              precision    recall  f1-score   support\n",
      "\n",
      "           0       0.55      1.00      0.71      9921\n",
      "           1       0.00      0.00      0.00      8079\n",
      "\n",
      "    accuracy                           0.55     18000\n",
      "   macro avg       0.28      0.50      0.36     18000\n",
      "weighted avg       0.30      0.55      0.39     18000\n",
      "\n",
      "[[9921    0]\n",
      " [8079    0]]\n"
     ]
    }
   ],
   "source": [
    "## Prediction\n",
    "y_pred5=grid.predict(X_test_scaled)\n",
    "print(classification_report(y_test,y_pred5))\n",
    "print(confusion_matrix(y_test,y_pred5))"
   ]
  },
  {
   "cell_type": "code",
   "execution_count": null,
   "metadata": {},
   "outputs": [],
   "source": []
  },
  {
   "cell_type": "code",
   "execution_count": null,
   "metadata": {},
   "outputs": [],
   "source": []
  }
 ],
 "metadata": {
  "kaggle": {
   "accelerator": "none",
   "dataSources": [
    {
     "datasetId": 3515102,
     "sourceId": 6130867,
     "sourceType": "datasetVersion"
    },
    {
     "datasetId": 5521495,
     "sourceId": 9141986,
     "sourceType": "datasetVersion"
    }
   ],
   "dockerImageVersionId": 30746,
   "isGpuEnabled": false,
   "isInternetEnabled": false,
   "language": "python",
   "sourceType": "notebook"
  },
  "kernelspec": {
   "display_name": "Python 3 (ipykernel)",
   "language": "python",
   "name": "python3"
  },
  "language_info": {
   "codemirror_mode": {
    "name": "ipython",
    "version": 3
   },
   "file_extension": ".py",
   "mimetype": "text/x-python",
   "name": "python",
   "nbconvert_exporter": "python",
   "pygments_lexer": "ipython3",
   "version": "3.11.7"
  }
 },
 "nbformat": 4,
 "nbformat_minor": 4
}
